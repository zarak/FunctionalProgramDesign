{
 "cells": [
  {
   "cell_type": "markdown",
   "metadata": {},
   "source": [
    "# Lecture 1.1"
   ]
  },
  {
   "cell_type": "code",
   "execution_count": 2,
   "metadata": {},
   "outputs": [
    {
     "data": {
      "text/plain": [
       "defined \u001b[32mclass\u001b[39m \u001b[36mBook\u001b[39m"
      ]
     },
     "execution_count": 2,
     "metadata": {},
     "output_type": "execute_result"
    }
   ],
   "source": [
    "case class Book(title: String, authors: List[String])"
   ]
  },
  {
   "cell_type": "code",
   "execution_count": 3,
   "metadata": {},
   "outputs": [
    {
     "data": {
      "text/plain": [
       "\u001b[36mbooks\u001b[39m: \u001b[32mList\u001b[39m[\u001b[32mBook\u001b[39m] = \u001b[33mList\u001b[39m(\n",
       "  \u001b[33mBook\u001b[39m(\u001b[32m\"Awesome\"\u001b[39m, \u001b[33mList\u001b[39m(\u001b[32m\"Jose\"\u001b[39m, \u001b[32m\"Frank\"\u001b[39m)),\n",
       "  \u001b[33mBook\u001b[39m(\u001b[32m\"Blindness\"\u001b[39m, \u001b[33mList\u001b[39m(\u001b[32m\"Jose\"\u001b[39m, \u001b[32m\"Anne\"\u001b[39m)),\n",
       "  \u001b[33mBook\u001b[39m(\u001b[32m\"Fantastic Fox\"\u001b[39m, \u001b[33mList\u001b[39m(\u001b[32m\"Jenna\"\u001b[39m)),\n",
       "  \u001b[33mBook\u001b[39m(\u001b[32m\"Night of the Living Dead\"\u001b[39m, \u001b[33mList\u001b[39m(\u001b[32m\"Jane\"\u001b[39m, \u001b[32m\"Jenna\"\u001b[39m)),\n",
       "  \u001b[33mBook\u001b[39m(\u001b[32m\"The Hermit\"\u001b[39m, \u001b[33mList\u001b[39m(\u001b[32m\"Sam\"\u001b[39m)),\n",
       "  \u001b[33mBook\u001b[39m(\u001b[32m\"Free Will\"\u001b[39m, \u001b[33mList\u001b[39m(\u001b[32m\"Sam\"\u001b[39m))\n",
       ")"
      ]
     },
     "execution_count": 3,
     "metadata": {},
     "output_type": "execute_result"
    }
   ],
   "source": [
    "val books: List[Book] = List(\n",
    "    Book(title=\"Awesome\", authors=List(\"Jose\", \"Frank\")),\n",
    "    Book(title=\"Blindness\", authors=List(\"Jose\", \"Anne\")),\n",
    "    Book(title=\"Fantastic Fox\", authors=List(\"Jenna\")),\n",
    "    Book(title=\"Night of the Living Dead\", authors=List(\"Jane\", \"Jenna\")),\n",
    "    Book(title=\"The Hermit\", authors=List(\"Sam\")),\n",
    "    Book(title=\"Free Will\", authors=List(\"Sam\"))\n",
    ")"
   ]
  },
  {
   "cell_type": "code",
   "execution_count": 5,
   "metadata": {},
   "outputs": [
    {
     "data": {
      "text/plain": [
       "\u001b[36mres4\u001b[39m: \u001b[32mList\u001b[39m[\u001b[32mString\u001b[39m] = \u001b[33mList\u001b[39m(\u001b[32m\"Awesome\"\u001b[39m, \u001b[32m\"Blindness\"\u001b[39m)"
      ]
     },
     "execution_count": 5,
     "metadata": {},
     "output_type": "execute_result"
    }
   ],
   "source": [
    "for {\n",
    "    b <- books\n",
    "    if (b.authors contains \"Jose\" )\n",
    "} yield b.title"
   ]
  },
  {
   "cell_type": "code",
   "execution_count": 6,
   "metadata": {},
   "outputs": [
    {
     "data": {
      "text/plain": [
       "\u001b[36mres5\u001b[39m: \u001b[32mList\u001b[39m[\u001b[32mString\u001b[39m] = \u001b[33mList\u001b[39m(\u001b[32m\"The Hermit\"\u001b[39m)"
      ]
     },
     "execution_count": 6,
     "metadata": {},
     "output_type": "execute_result"
    }
   ],
   "source": [
    "for {\n",
    "    b <- books\n",
    "    if (b.title contains \"The\" )\n",
    "} yield b.title"
   ]
  },
  {
   "cell_type": "code",
   "execution_count": 7,
   "metadata": {},
   "outputs": [
    {
     "data": {
      "text/plain": [
       "\u001b[36mx\u001b[39m: \u001b[32mList\u001b[39m[(\u001b[32mChar\u001b[39m, \u001b[32mInt\u001b[39m)] = \u001b[33mList\u001b[39m((\u001b[32m'a'\u001b[39m, \u001b[32m3\u001b[39m), (\u001b[32m'b'\u001b[39m, \u001b[32m2\u001b[39m))"
      ]
     },
     "execution_count": 7,
     "metadata": {},
     "output_type": "execute_result"
    }
   ],
   "source": [
    "val x = List(('a', 3), ('b', 2))"
   ]
  },
  {
   "cell_type": "code",
   "execution_count": 15,
   "metadata": {},
   "outputs": [
    {
     "data": {
      "text/plain": [
       "\u001b[36mcounts\u001b[39m: (\u001b[32mList\u001b[39m[\u001b[32mChar\u001b[39m], \u001b[32mList\u001b[39m[\u001b[32mInt\u001b[39m]) = (\u001b[33mList\u001b[39m(\u001b[32m'a'\u001b[39m, \u001b[32m'b'\u001b[39m), \u001b[33mList\u001b[39m(\u001b[32m3\u001b[39m, \u001b[32m2\u001b[39m))"
      ]
     },
     "execution_count": 15,
     "metadata": {},
     "output_type": "execute_result"
    }
   ],
   "source": [
    "val counts: (List[Char], List[Int]) = x unzip"
   ]
  },
  {
   "cell_type": "code",
   "execution_count": 17,
   "metadata": {},
   "outputs": [
    {
     "name": "stderr",
     "output_type": "stream",
     "text": [
      "cmd17.sc:1: not found: value Donut\n",
      "val res17 = Donut names counts\n",
      "            ^Compilation Failed"
     ]
    },
    {
     "ename": "",
     "evalue": "",
     "output_type": "error",
     "traceback": [
      "Compilation Failed"
     ]
    }
   ],
   "source": [
    "Donut names counts"
   ]
  },
  {
   "cell_type": "markdown",
   "metadata": {},
   "source": [
    "# Lecture 1.3"
   ]
  },
  {
   "cell_type": "code",
   "execution_count": null,
   "metadata": {},
   "outputs": [],
   "source": []
  },
  {
   "cell_type": "markdown",
   "metadata": {},
   "source": [
    "# Last Homework FPS"
   ]
  },
  {
   "cell_type": "code",
   "execution_count": 21,
   "metadata": {},
   "outputs": [
    {
     "data": {
      "text/plain": [
       "\u001b[36mchars\u001b[39m: \u001b[32mList\u001b[39m[\u001b[32mChar\u001b[39m] = \u001b[33mList\u001b[39m(\u001b[32m'a'\u001b[39m, \u001b[32m'b'\u001b[39m)\n",
       "\u001b[36mnums\u001b[39m: \u001b[32mList\u001b[39m[\u001b[32mInt\u001b[39m] = \u001b[33mList\u001b[39m(\u001b[32m1\u001b[39m, \u001b[32m2\u001b[39m)"
      ]
     },
     "execution_count": 21,
     "metadata": {},
     "output_type": "execute_result"
    }
   ],
   "source": [
    "val chars = List('a', 'b')\n",
    "val nums = List(1, 2)"
   ]
  },
  {
   "cell_type": "code",
   "execution_count": 24,
   "metadata": {},
   "outputs": [
    {
     "data": {
      "text/plain": [
       "\u001b[36mres23\u001b[39m: \u001b[32mList\u001b[39m[\u001b[32mList\u001b[39m[\u001b[32mString\u001b[39m]] = \u001b[33mList\u001b[39m(\n",
       "  \u001b[33mList\u001b[39m(\u001b[32m\"a1\"\u001b[39m, \u001b[32m\"b1\"\u001b[39m),\n",
       "  \u001b[33mList\u001b[39m(\u001b[32m\"a1\"\u001b[39m, \u001b[32m\"b2\"\u001b[39m),\n",
       "  \u001b[33mList\u001b[39m(\u001b[32m\"a2\"\u001b[39m, \u001b[32m\"b1\"\u001b[39m),\n",
       "  \u001b[33mList\u001b[39m(\u001b[32m\"a2\"\u001b[39m, \u001b[32m\"b2\"\u001b[39m)\n",
       ")"
      ]
     },
     "execution_count": 24,
     "metadata": {},
     "output_type": "execute_result"
    }
   ],
   "source": [
    "List(List(\"a1\", \"b1\"), List(\"a1\", \"b2\"), List(\"a2\", \"b1\"), List(\"a2\", \"b2\"))"
   ]
  },
  {
   "cell_type": "code",
   "execution_count": 25,
   "metadata": {},
   "outputs": [
    {
     "data": {
      "text/plain": [
       "\u001b[36mres24\u001b[39m: \u001b[32mList\u001b[39m[(\u001b[32mChar\u001b[39m, \u001b[32mInt\u001b[39m)] = \u001b[33mList\u001b[39m((\u001b[32m'a'\u001b[39m, \u001b[32m3\u001b[39m), (\u001b[32m'b'\u001b[39m, \u001b[32m2\u001b[39m))"
      ]
     },
     "execution_count": 25,
     "metadata": {},
     "output_type": "execute_result"
    }
   ],
   "source": [
    "x"
   ]
  },
  {
   "cell_type": "code",
   "execution_count": 30,
   "metadata": {},
   "outputs": [
    {
     "data": {
      "text/plain": [
       "defined \u001b[32mfunction\u001b[39m \u001b[36mcombs\u001b[39m"
      ]
     },
     "execution_count": 30,
     "metadata": {},
     "output_type": "execute_result"
    }
   ],
   "source": [
    "def combs(x: List[(Char, Int)]): List[List[(Char, Int)]] = {\n",
    "    println(x);\n",
    "    {for {\n",
    "        i <- 1 to 2\n",
    "        j <- 1 to 2\n",
    "    } yield List(('a', i), ('b', j))}.toList\n",
    "}\n"
   ]
  },
  {
   "cell_type": "code",
   "execution_count": 31,
   "metadata": {},
   "outputs": [
    {
     "name": "stdout",
     "output_type": "stream",
     "text": [
      "List((a,3), (b,2))\n"
     ]
    },
    {
     "data": {
      "text/plain": [
       "\u001b[36mres30\u001b[39m: \u001b[32mList\u001b[39m[\u001b[32mList\u001b[39m[(\u001b[32mChar\u001b[39m, \u001b[32mInt\u001b[39m)]] = \u001b[33mList\u001b[39m(\n",
       "  \u001b[33mList\u001b[39m((\u001b[32m'a'\u001b[39m, \u001b[32m1\u001b[39m), (\u001b[32m'b'\u001b[39m, \u001b[32m1\u001b[39m)),\n",
       "  \u001b[33mList\u001b[39m((\u001b[32m'a'\u001b[39m, \u001b[32m1\u001b[39m), (\u001b[32m'b'\u001b[39m, \u001b[32m2\u001b[39m)),\n",
       "  \u001b[33mList\u001b[39m((\u001b[32m'a'\u001b[39m, \u001b[32m2\u001b[39m), (\u001b[32m'b'\u001b[39m, \u001b[32m1\u001b[39m)),\n",
       "  \u001b[33mList\u001b[39m((\u001b[32m'a'\u001b[39m, \u001b[32m2\u001b[39m), (\u001b[32m'b'\u001b[39m, \u001b[32m2\u001b[39m))\n",
       ")"
      ]
     },
     "execution_count": 31,
     "metadata": {},
     "output_type": "execute_result"
    }
   ],
   "source": [
    "combs(x)"
   ]
  },
  {
   "cell_type": "code",
   "execution_count": null,
   "metadata": {},
   "outputs": [],
   "source": []
  },
  {
   "cell_type": "code",
   "execution_count": 34,
   "metadata": {},
   "outputs": [
    {
     "data": {
      "text/plain": [
       "\u001b[36mres33\u001b[39m: \u001b[32mList\u001b[39m[(\u001b[32mChar\u001b[39m, \u001b[32mInt\u001b[39m)] = \u001b[33mList\u001b[39m((\u001b[32m'a'\u001b[39m, \u001b[32m3\u001b[39m), (\u001b[32m'b'\u001b[39m, \u001b[32m2\u001b[39m))"
      ]
     },
     "execution_count": 34,
     "metadata": {},
     "output_type": "execute_result"
    }
   ],
   "source": [
    "x"
   ]
  },
  {
   "cell_type": "code",
   "execution_count": 49,
   "metadata": {},
   "outputs": [
    {
     "data": {
      "text/plain": [
       "defined \u001b[32mtype\u001b[39m \u001b[36mOccurrences\u001b[39m\n",
       "defined \u001b[32mfunction\u001b[39m \u001b[36mcombinations\u001b[39m\n",
       "defined \u001b[32mfunction\u001b[39m \u001b[36mcombs\u001b[39m"
      ]
     },
     "execution_count": 49,
     "metadata": {},
     "output_type": "execute_result"
    }
   ],
   "source": [
    "type Occurrences = List[(Char, Int)]\n",
    "\n",
    "def combinations(occurrences: Occurrences): List[Occurrences] = {\n",
    "    val occs = combs(occurrences)\n",
    "    println(occs)\n",
    "    def loop(occs: Occurrences): Set[Occurrences] = {\n",
    "      if (occs.isEmpty) Set(Nil)\n",
    "      else {\n",
    "        for {\n",
    "          i <- 1 to occs.length\n",
    "          item <- occs take i\n",
    "          rest <- loop(occs drop i)\n",
    "        } yield item :: rest\n",
    "      }.toSet\n",
    "    }\n",
    "    (occs flatMap loop).toSet.toList ++ List(Nil)\n",
    "}\n",
    "\n",
    "\n",
    "def combs(x: List[(Char, Int)]): List[List[(Char, Int)]] = {\n",
    "    println(x);\n",
    "    {for {\n",
    "        i <- 1 to 2\n",
    "        j <- 1 to 2\n",
    "    } yield List(('a', i), ('b', j))}.toList\n",
    "}"
   ]
  },
  {
   "cell_type": "code",
   "execution_count": 50,
   "metadata": {},
   "outputs": [
    {
     "name": "stdout",
     "output_type": "stream",
     "text": [
      "List((a,3), (b,2))\n",
      "List(List((a,1), (b,1)), List((a,1), (b,2)), List((a,2), (b,1)), List((a,2), (b,2)))\n"
     ]
    },
    {
     "data": {
      "text/plain": [
       "\u001b[36mres49\u001b[39m: \u001b[32mList\u001b[39m[\u001b[32mOccurrences\u001b[39m] = \u001b[33mList\u001b[39m(\n",
       "  \u001b[33mList\u001b[39m((\u001b[32m'a'\u001b[39m, \u001b[32m1\u001b[39m)),\n",
       "  \u001b[33mList\u001b[39m((\u001b[32m'b'\u001b[39m, \u001b[32m1\u001b[39m)),\n",
       "  \u001b[33mList\u001b[39m((\u001b[32m'b'\u001b[39m, \u001b[32m2\u001b[39m)),\n",
       "  \u001b[33mList\u001b[39m((\u001b[32m'a'\u001b[39m, \u001b[32m1\u001b[39m), (\u001b[32m'b'\u001b[39m, \u001b[32m1\u001b[39m)),\n",
       "  \u001b[33mList\u001b[39m((\u001b[32m'a'\u001b[39m, \u001b[32m2\u001b[39m), (\u001b[32m'b'\u001b[39m, \u001b[32m1\u001b[39m)),\n",
       "  \u001b[33mList\u001b[39m((\u001b[32m'a'\u001b[39m, \u001b[32m2\u001b[39m)),\n",
       "  \u001b[33mList\u001b[39m((\u001b[32m'a'\u001b[39m, \u001b[32m1\u001b[39m), (\u001b[32m'b'\u001b[39m, \u001b[32m2\u001b[39m)),\n",
       "  \u001b[33mList\u001b[39m((\u001b[32m'a'\u001b[39m, \u001b[32m2\u001b[39m), (\u001b[32m'b'\u001b[39m, \u001b[32m2\u001b[39m)),\n",
       "  \u001b[33mList\u001b[39m()\n",
       ")"
      ]
     },
     "execution_count": 50,
     "metadata": {},
     "output_type": "execute_result"
    }
   ],
   "source": [
    "combinations(x)"
   ]
  },
  {
   "cell_type": "code",
   "execution_count": 38,
   "metadata": {},
   "outputs": [
    {
     "data": {
      "text/plain": [
       "\u001b[36mres37\u001b[39m: \u001b[32mOccurrences\u001b[39m = \u001b[33mList\u001b[39m((\u001b[32m'a'\u001b[39m, \u001b[32m1\u001b[39m), (\u001b[32m'a'\u001b[39m, \u001b[32m2\u001b[39m), (\u001b[32m'a'\u001b[39m, \u001b[32m3\u001b[39m), (\u001b[32m'b'\u001b[39m, \u001b[32m1\u001b[39m), (\u001b[32m'b'\u001b[39m, \u001b[32m2\u001b[39m))"
      ]
     },
     "execution_count": 38,
     "metadata": {},
     "output_type": "execute_result"
    }
   ],
   "source": [
    "expandOccurences(x)"
   ]
  },
  {
   "cell_type": "code",
   "execution_count": 83,
   "metadata": {},
   "outputs": [
    {
     "data": {
      "text/plain": [
       "defined \u001b[32mfunction\u001b[39m \u001b[36mcombs\u001b[39m"
      ]
     },
     "execution_count": 83,
     "metadata": {},
     "output_type": "execute_result"
    }
   ],
   "source": [
    "def combs(x: List[(Char, Int)]): List[List[(Char, Int)]] = {\n",
    "    val (a, b) = x unzip;\n",
    "    {for {\n",
    "        i <- a\n",
    "        j <- b map (r => 1 to r)\n",
    "        k <- j\n",
    "    } yield List((i, k))}.toList\n",
    "}"
   ]
  },
  {
   "cell_type": "code",
   "execution_count": 84,
   "metadata": {},
   "outputs": [
    {
     "data": {
      "text/plain": [
       "\u001b[36mres83\u001b[39m: \u001b[32mList\u001b[39m[\u001b[32mList\u001b[39m[(\u001b[32mChar\u001b[39m, \u001b[32mInt\u001b[39m)]] = \u001b[33mList\u001b[39m(\n",
       "  \u001b[33mList\u001b[39m((\u001b[32m'a'\u001b[39m, \u001b[32m1\u001b[39m)),\n",
       "  \u001b[33mList\u001b[39m((\u001b[32m'a'\u001b[39m, \u001b[32m2\u001b[39m)),\n",
       "  \u001b[33mList\u001b[39m((\u001b[32m'a'\u001b[39m, \u001b[32m3\u001b[39m)),\n",
       "  \u001b[33mList\u001b[39m((\u001b[32m'a'\u001b[39m, \u001b[32m1\u001b[39m)),\n",
       "  \u001b[33mList\u001b[39m((\u001b[32m'a'\u001b[39m, \u001b[32m2\u001b[39m)),\n",
       "  \u001b[33mList\u001b[39m((\u001b[32m'b'\u001b[39m, \u001b[32m1\u001b[39m)),\n",
       "  \u001b[33mList\u001b[39m((\u001b[32m'b'\u001b[39m, \u001b[32m2\u001b[39m)),\n",
       "  \u001b[33mList\u001b[39m((\u001b[32m'b'\u001b[39m, \u001b[32m3\u001b[39m)),\n",
       "  \u001b[33mList\u001b[39m((\u001b[32m'b'\u001b[39m, \u001b[32m1\u001b[39m)),\n",
       "  \u001b[33mList\u001b[39m((\u001b[32m'b'\u001b[39m, \u001b[32m2\u001b[39m))\n",
       ")"
      ]
     },
     "execution_count": 84,
     "metadata": {},
     "output_type": "execute_result"
    }
   ],
   "source": [
    "combs(x)"
   ]
  },
  {
   "cell_type": "code",
   "execution_count": 64,
   "metadata": {},
   "outputs": [
    {
     "data": {
      "text/plain": [
       "\u001b[36ma\u001b[39m: \u001b[32mList\u001b[39m[\u001b[32mChar\u001b[39m] = \u001b[33mList\u001b[39m(\u001b[32m'a'\u001b[39m, \u001b[32m'b'\u001b[39m)\n",
       "\u001b[36mb\u001b[39m: \u001b[32mList\u001b[39m[\u001b[32mInt\u001b[39m] = \u001b[33mList\u001b[39m(\u001b[32m3\u001b[39m, \u001b[32m2\u001b[39m)"
      ]
     },
     "execution_count": 64,
     "metadata": {},
     "output_type": "execute_result"
    }
   ],
   "source": [
    "val (a, b) = unzipped"
   ]
  },
  {
   "cell_type": "code",
   "execution_count": 56,
   "metadata": {},
   "outputs": [
    {
     "data": {
      "text/plain": [
       "defined \u001b[32mclass\u001b[39m \u001b[36mCrossable\u001b[39m"
      ]
     },
     "execution_count": 56,
     "metadata": {},
     "output_type": "execute_result"
    }
   ],
   "source": [
    "implicit class Crossable[X](xs: Traversable[X]) {\n",
    "  def cross[Y](ys: Traversable[Y]) = for { x <- xs; y <- ys } yield (x, y)\n",
    "}"
   ]
  },
  {
   "cell_type": "code",
   "execution_count": 97,
   "metadata": {},
   "outputs": [
    {
     "data": {
      "text/plain": [
       "\u001b[36mres96\u001b[39m: \u001b[32mList\u001b[39m[\u001b[32mcollection\u001b[39m.\u001b[32mimmutable\u001b[39m.\u001b[32mIndexedSeq\u001b[39m[(\u001b[32mChar\u001b[39m, \u001b[32mInt\u001b[39m)]] = \u001b[33mList\u001b[39m(\n",
       "  \u001b[33mVector\u001b[39m((\u001b[32m'a'\u001b[39m, \u001b[32m1\u001b[39m), (\u001b[32m'a'\u001b[39m, \u001b[32m2\u001b[39m), (\u001b[32m'a'\u001b[39m, \u001b[32m3\u001b[39m)),\n",
       "  \u001b[33mVector\u001b[39m((\u001b[32m'a'\u001b[39m, \u001b[32m1\u001b[39m), (\u001b[32m'a'\u001b[39m, \u001b[32m2\u001b[39m)),\n",
       "  \u001b[33mVector\u001b[39m((\u001b[32m'b'\u001b[39m, \u001b[32m1\u001b[39m), (\u001b[32m'b'\u001b[39m, \u001b[32m2\u001b[39m), (\u001b[32m'b'\u001b[39m, \u001b[32m3\u001b[39m)),\n",
       "  \u001b[33mVector\u001b[39m((\u001b[32m'b'\u001b[39m, \u001b[32m1\u001b[39m), (\u001b[32m'b'\u001b[39m, \u001b[32m2\u001b[39m))\n",
       ")"
      ]
     },
     "execution_count": 97,
     "metadata": {},
     "output_type": "execute_result"
    }
   ],
   "source": [
    "a flatMap (char => b map (r => 1 to r) map(x => (x map(x => (char, x))) ))"
   ]
  },
  {
   "cell_type": "code",
   "execution_count": 85,
   "metadata": {},
   "outputs": [
    {
     "data": {
      "text/plain": [
       "\u001b[36mres84\u001b[39m: \u001b[32mList\u001b[39m[\u001b[32mChar\u001b[39m] = \u001b[33mList\u001b[39m(\u001b[32m'a'\u001b[39m, \u001b[32m'b'\u001b[39m)"
      ]
     },
     "execution_count": 85,
     "metadata": {},
     "output_type": "execute_result"
    }
   ],
   "source": [
    "a"
   ]
  },
  {
   "cell_type": "code",
   "execution_count": 98,
   "metadata": {},
   "outputs": [
    {
     "data": {
      "text/plain": [
       "\u001b[36mres97\u001b[39m: \u001b[32mList\u001b[39m[\u001b[32mChar\u001b[39m] = \u001b[33mList\u001b[39m(\u001b[32m'a'\u001b[39m, \u001b[32m'b'\u001b[39m)"
      ]
     },
     "execution_count": 98,
     "metadata": {},
     "output_type": "execute_result"
    }
   ],
   "source": [
    "a"
   ]
  },
  {
   "cell_type": "code",
   "execution_count": 99,
   "metadata": {},
   "outputs": [
    {
     "data": {
      "text/plain": [
       "\u001b[36mres98\u001b[39m: \u001b[32mList\u001b[39m[\u001b[32mInt\u001b[39m] = \u001b[33mList\u001b[39m(\u001b[32m3\u001b[39m, \u001b[32m2\u001b[39m)"
      ]
     },
     "execution_count": 99,
     "metadata": {},
     "output_type": "execute_result"
    }
   ],
   "source": [
    "b"
   ]
  },
  {
   "cell_type": "code",
   "execution_count": 100,
   "metadata": {},
   "outputs": [
    {
     "data": {
      "text/plain": [
       "\u001b[36mres99\u001b[39m: \u001b[32mList\u001b[39m[\u001b[32mRange\u001b[39m.\u001b[32mInclusive\u001b[39m] = \u001b[33mList\u001b[39m(\n",
       "  \u001b[33mRange.Inclusive\u001b[39m(\u001b[32m1\u001b[39m, \u001b[32m2\u001b[39m, \u001b[32m3\u001b[39m),\n",
       "  \u001b[33mRange.Inclusive\u001b[39m(\u001b[32m1\u001b[39m, \u001b[32m2\u001b[39m)\n",
       ")"
      ]
     },
     "execution_count": 100,
     "metadata": {},
     "output_type": "execute_result"
    }
   ],
   "source": [
    "b map (r => 1 to r)"
   ]
  },
  {
   "cell_type": "code",
   "execution_count": 112,
   "metadata": {},
   "outputs": [
    {
     "data": {
      "text/plain": [
       "defined \u001b[32mfunction\u001b[39m \u001b[36mloop\u001b[39m"
      ]
     },
     "execution_count": 112,
     "metadata": {},
     "output_type": "execute_result"
    }
   ],
   "source": [
    "def loop(chars: List[Char], nums: List[Int]): List[List[(Char, Int)]] = {\n",
    "    { for {\n",
    "        c <- chars\n",
    "        n <- for { num <- nums; i <- 1 to num } yield i\n",
    "    } yield List((c, n)) }.toList\n",
    "}"
   ]
  },
  {
   "cell_type": "code",
   "execution_count": 113,
   "metadata": {},
   "outputs": [
    {
     "data": {
      "text/plain": [
       "\u001b[36mres112\u001b[39m: \u001b[32mList\u001b[39m[\u001b[32mList\u001b[39m[(\u001b[32mChar\u001b[39m, \u001b[32mInt\u001b[39m)]] = \u001b[33mList\u001b[39m(\n",
       "  \u001b[33mList\u001b[39m((\u001b[32m'a'\u001b[39m, \u001b[32m1\u001b[39m)),\n",
       "  \u001b[33mList\u001b[39m((\u001b[32m'a'\u001b[39m, \u001b[32m2\u001b[39m)),\n",
       "  \u001b[33mList\u001b[39m((\u001b[32m'a'\u001b[39m, \u001b[32m3\u001b[39m)),\n",
       "  \u001b[33mList\u001b[39m((\u001b[32m'a'\u001b[39m, \u001b[32m1\u001b[39m)),\n",
       "  \u001b[33mList\u001b[39m((\u001b[32m'a'\u001b[39m, \u001b[32m2\u001b[39m)),\n",
       "  \u001b[33mList\u001b[39m((\u001b[32m'b'\u001b[39m, \u001b[32m1\u001b[39m)),\n",
       "  \u001b[33mList\u001b[39m((\u001b[32m'b'\u001b[39m, \u001b[32m2\u001b[39m)),\n",
       "  \u001b[33mList\u001b[39m((\u001b[32m'b'\u001b[39m, \u001b[32m3\u001b[39m)),\n",
       "  \u001b[33mList\u001b[39m((\u001b[32m'b'\u001b[39m, \u001b[32m1\u001b[39m)),\n",
       "  \u001b[33mList\u001b[39m((\u001b[32m'b'\u001b[39m, \u001b[32m2\u001b[39m))\n",
       ")"
      ]
     },
     "execution_count": 113,
     "metadata": {},
     "output_type": "execute_result"
    }
   ],
   "source": [
    "loop(a, b)"
   ]
  },
  {
   "cell_type": "code",
   "execution_count": 105,
   "metadata": {},
   "outputs": [
    {
     "data": {
      "text/plain": [
       "\u001b[36mres104\u001b[39m: \u001b[32mList\u001b[39m[\u001b[32mInt\u001b[39m] = \u001b[33mList\u001b[39m(\u001b[32m3\u001b[39m, \u001b[32m2\u001b[39m)"
      ]
     },
     "execution_count": 105,
     "metadata": {},
     "output_type": "execute_result"
    }
   ],
   "source": [
    "b"
   ]
  },
  {
   "cell_type": "code",
   "execution_count": 115,
   "metadata": {},
   "outputs": [
    {
     "data": {
      "text/plain": [
       "\u001b[36mletters\u001b[39m: \u001b[32mList\u001b[39m[(\u001b[32mChar\u001b[39m, \u001b[32mInt\u001b[39m)] = \u001b[33mList\u001b[39m((\u001b[32m'a'\u001b[39m, \u001b[32m2\u001b[39m), (\u001b[32m'b'\u001b[39m, \u001b[32m3\u001b[39m))\n",
       "\u001b[36mres114_1\u001b[39m: (\u001b[32mAny\u001b[39m, \u001b[32mInt\u001b[39m) = (\u001b[32m'a'\u001b[39m, \u001b[32m5\u001b[39m)"
      ]
     },
     "execution_count": 115,
     "metadata": {},
     "output_type": "execute_result"
    }
   ],
   "source": [
    "val letters = List(('a', 2), ('b', 3))\n",
    "letters.fold((\"\", 0)) { (z, i) =>\n",
    "  ('a', i._2 + z._2)\n",
    "}"
   ]
  },
  {
   "cell_type": "code",
   "execution_count": 116,
   "metadata": {},
   "outputs": [
    {
     "data": {
      "text/plain": [
       "\u001b[36mres115\u001b[39m: \u001b[32mList\u001b[39m[\u001b[32mChar\u001b[39m] = \u001b[33mList\u001b[39m(\u001b[32m'a'\u001b[39m, \u001b[32m'b'\u001b[39m)"
      ]
     },
     "execution_count": 116,
     "metadata": {},
     "output_type": "execute_result"
    }
   ],
   "source": [
    "a"
   ]
  },
  {
   "cell_type": "code",
   "execution_count": 164,
   "metadata": {},
   "outputs": [
    {
     "data": {
      "text/plain": [
       "\u001b[36mres163\u001b[39m: \u001b[32mList\u001b[39m[(\u001b[32mChar\u001b[39m, \u001b[32mInt\u001b[39m)] = \u001b[33mList\u001b[39m((\u001b[32m'a'\u001b[39m, \u001b[32m3\u001b[39m), (\u001b[32m'b'\u001b[39m, \u001b[32m2\u001b[39m))"
      ]
     },
     "execution_count": 164,
     "metadata": {},
     "output_type": "execute_result"
    }
   ],
   "source": [
    "x"
   ]
  },
  {
   "cell_type": "code",
   "execution_count": 175,
   "metadata": {},
   "outputs": [
    {
     "data": {
      "text/plain": [
       "defined \u001b[32mfunction\u001b[39m \u001b[36mexpandOccurrences\u001b[39m"
      ]
     },
     "execution_count": 175,
     "metadata": {},
     "output_type": "execute_result"
    }
   ],
   "source": [
    "def expandOccurrences(x: Occurrences): List[Occurrences] = \n",
    "    ({for {\n",
    "       (char, count) <- x \n",
    "        i <- 1 to count\n",
    "    } yield (char, i) }.toList groupBy (x => x._1)).toList.sortBy(_._1) map (_._2)"
   ]
  },
  {
   "cell_type": "code",
   "execution_count": 176,
   "metadata": {},
   "outputs": [
    {
     "data": {
      "text/plain": [
       "\u001b[36mres175\u001b[39m: \u001b[32mList\u001b[39m[\u001b[32mOccurrences\u001b[39m] = \u001b[33mList\u001b[39m(\n",
       "  \u001b[33mList\u001b[39m((\u001b[32m'a'\u001b[39m, \u001b[32m1\u001b[39m), (\u001b[32m'a'\u001b[39m, \u001b[32m2\u001b[39m), (\u001b[32m'a'\u001b[39m, \u001b[32m3\u001b[39m)),\n",
       "  \u001b[33mList\u001b[39m((\u001b[32m'b'\u001b[39m, \u001b[32m1\u001b[39m), (\u001b[32m'b'\u001b[39m, \u001b[32m2\u001b[39m))\n",
       ")"
      ]
     },
     "execution_count": 176,
     "metadata": {},
     "output_type": "execute_result"
    }
   ],
   "source": [
    "expandOccurrences(x)"
   ]
  },
  {
   "cell_type": "code",
   "execution_count": 177,
   "metadata": {},
   "outputs": [
    {
     "data": {
      "text/plain": [
       "defined \u001b[32mfunction\u001b[39m \u001b[36mgeneratePairs\u001b[39m"
      ]
     },
     "execution_count": 177,
     "metadata": {},
     "output_type": "execute_result"
    }
   ],
   "source": [
    "def generatePairs(list: List[Occurrences]): List[Occurrences] = list match {\n",
    "    case Nil => Nil\n",
    "    case x :: Nil => x map (List(_))\n",
    "    case x :: xs => for {\n",
    "        i <- x\n",
    "        j <- generatePairs(xs map(_.sorted))\n",
    "    } yield List(i) ++ j\n",
    "}"
   ]
  },
  {
   "cell_type": "code",
   "execution_count": 180,
   "metadata": {},
   "outputs": [
    {
     "data": {
      "text/plain": [
       "\u001b[36my\u001b[39m: \u001b[32mList\u001b[39m[\u001b[32mOccurrences\u001b[39m] = \u001b[33mList\u001b[39m(\n",
       "  \u001b[33mList\u001b[39m((\u001b[32m'a'\u001b[39m, \u001b[32m1\u001b[39m), (\u001b[32m'a'\u001b[39m, \u001b[32m2\u001b[39m), (\u001b[32m'a'\u001b[39m, \u001b[32m3\u001b[39m)),\n",
       "  \u001b[33mList\u001b[39m((\u001b[32m'b'\u001b[39m, \u001b[32m1\u001b[39m), (\u001b[32m'b'\u001b[39m, \u001b[32m2\u001b[39m))\n",
       ")\n",
       "\u001b[36mres179_1\u001b[39m: \u001b[32mList\u001b[39m[\u001b[32mOccurrences\u001b[39m] = \u001b[33mList\u001b[39m(\n",
       "  \u001b[33mList\u001b[39m((\u001b[32m'a'\u001b[39m, \u001b[32m1\u001b[39m), (\u001b[32m'b'\u001b[39m, \u001b[32m1\u001b[39m)),\n",
       "  \u001b[33mList\u001b[39m((\u001b[32m'a'\u001b[39m, \u001b[32m1\u001b[39m), (\u001b[32m'b'\u001b[39m, \u001b[32m2\u001b[39m)),\n",
       "  \u001b[33mList\u001b[39m((\u001b[32m'a'\u001b[39m, \u001b[32m2\u001b[39m), (\u001b[32m'b'\u001b[39m, \u001b[32m1\u001b[39m)),\n",
       "  \u001b[33mList\u001b[39m((\u001b[32m'a'\u001b[39m, \u001b[32m2\u001b[39m), (\u001b[32m'b'\u001b[39m, \u001b[32m2\u001b[39m)),\n",
       "  \u001b[33mList\u001b[39m((\u001b[32m'a'\u001b[39m, \u001b[32m3\u001b[39m), (\u001b[32m'b'\u001b[39m, \u001b[32m1\u001b[39m)),\n",
       "  \u001b[33mList\u001b[39m((\u001b[32m'a'\u001b[39m, \u001b[32m3\u001b[39m), (\u001b[32m'b'\u001b[39m, \u001b[32m2\u001b[39m))\n",
       ")"
      ]
     },
     "execution_count": 180,
     "metadata": {},
     "output_type": "execute_result"
    }
   ],
   "source": [
    "val y = expandOccurrences(x)\n",
    "generatePairs(y)"
   ]
  },
  {
   "cell_type": "code",
   "execution_count": null,
   "metadata": {},
   "outputs": [],
   "source": []
  },
  {
   "cell_type": "code",
   "execution_count": 223,
   "metadata": {},
   "outputs": [
    {
     "data": {
      "text/plain": [
       "\u001b[36my\u001b[39m: \u001b[32mList\u001b[39m[(\u001b[32mChar\u001b[39m, \u001b[32mInt\u001b[39m)] = \u001b[33mList\u001b[39m((\u001b[32m'a'\u001b[39m, \u001b[32m1\u001b[39m))"
      ]
     },
     "execution_count": 223,
     "metadata": {},
     "output_type": "execute_result"
    }
   ],
   "source": [
    "val y = List(('a', 1))"
   ]
  },
  {
   "cell_type": "code",
   "execution_count": null,
   "metadata": {},
   "outputs": [],
   "source": []
  },
  {
   "cell_type": "code",
   "execution_count": 225,
   "metadata": {},
   "outputs": [
    {
     "data": {
      "text/plain": [
       "\u001b[36mres224\u001b[39m: \u001b[32mInt\u001b[39m = \u001b[32m1\u001b[39m"
      ]
     },
     "execution_count": 225,
     "metadata": {},
     "output_type": "execute_result"
    }
   ],
   "source": [
    "y(idx)._2"
   ]
  },
  {
   "cell_type": "code",
   "execution_count": 226,
   "metadata": {},
   "outputs": [
    {
     "data": {
      "text/plain": [
       "\u001b[36mres225\u001b[39m: \u001b[32mList\u001b[39m[(\u001b[32mChar\u001b[39m, \u001b[32mInt\u001b[39m)] = \u001b[33mList\u001b[39m((\u001b[32m'a'\u001b[39m, \u001b[32m2\u001b[39m), (\u001b[32m'b'\u001b[39m, \u001b[32m2\u001b[39m))"
      ]
     },
     "execution_count": 226,
     "metadata": {},
     "output_type": "execute_result"
    }
   ],
   "source": [
    "for {\n",
    "    (char, num) <- x\n",
    "    idx = (y map (_._1)).indexOf(char)\n",
    "    newVal = if (idx >= 0) num - y(idx)._2 else num\n",
    "    if newVal != 0\n",
    "} yield( char, newVal)"
   ]
  },
  {
   "cell_type": "code",
   "execution_count": 227,
   "metadata": {},
   "outputs": [
    {
     "data": {
      "text/plain": [
       "\u001b[36mres226\u001b[39m: \u001b[32mInt\u001b[39m = \u001b[32m0\u001b[39m"
      ]
     },
     "execution_count": 227,
     "metadata": {},
     "output_type": "execute_result"
    }
   ],
   "source": [
    "(y map (_._1)).indexOf('a')"
   ]
  },
  {
   "cell_type": "code",
   "execution_count": 228,
   "metadata": {},
   "outputs": [
    {
     "data": {
      "text/plain": [
       "\u001b[36mres227\u001b[39m: \u001b[32mList\u001b[39m[(\u001b[32mChar\u001b[39m, \u001b[32mInt\u001b[39m)] = \u001b[33mList\u001b[39m((\u001b[32m'a'\u001b[39m, \u001b[32m3\u001b[39m), (\u001b[32m'b'\u001b[39m, \u001b[32m2\u001b[39m))"
      ]
     },
     "execution_count": 228,
     "metadata": {},
     "output_type": "execute_result"
    }
   ],
   "source": [
    "x"
   ]
  },
  {
   "cell_type": "code",
   "execution_count": 229,
   "metadata": {},
   "outputs": [
    {
     "data": {
      "text/plain": [
       "\u001b[36mres228\u001b[39m: \u001b[32mList\u001b[39m[(\u001b[32mChar\u001b[39m, \u001b[32mInt\u001b[39m)] = \u001b[33mList\u001b[39m((\u001b[32m'a'\u001b[39m, \u001b[32m1\u001b[39m))"
      ]
     },
     "execution_count": 229,
     "metadata": {},
     "output_type": "execute_result"
    }
   ],
   "source": [
    "y"
   ]
  },
  {
   "cell_type": "code",
   "execution_count": 237,
   "metadata": {},
   "outputs": [
    {
     "data": {
      "text/plain": [
       "\u001b[36mtest\u001b[39m: \u001b[32mString\u001b[39m = \u001b[32m\"Test\"\u001b[39m"
      ]
     },
     "execution_count": 237,
     "metadata": {},
     "output_type": "execute_result"
    }
   ],
   "source": [
    "val test = \"Test\""
   ]
  },
  {
   "cell_type": "code",
   "execution_count": 252,
   "metadata": {},
   "outputs": [
    {
     "data": {
      "text/plain": [
       "defined \u001b[32mfunction\u001b[39m \u001b[36mcountLetter\u001b[39m"
      ]
     },
     "execution_count": 252,
     "metadata": {},
     "output_type": "execute_result"
    }
   ],
   "source": [
    "def countLetter(c: Char): Boolean = {\n",
    "    \n",
    "}"
   ]
  },
  {
   "cell_type": "code",
   "execution_count": 268,
   "metadata": {},
   "outputs": [
    {
     "data": {
      "text/plain": [
       "\u001b[36mres267\u001b[39m: \u001b[32mList\u001b[39m[(\u001b[32mChar\u001b[39m, \u001b[32mInt\u001b[39m)] = \u001b[33mList\u001b[39m((\u001b[32m'e'\u001b[39m, \u001b[32m1\u001b[39m), (\u001b[32m't'\u001b[39m, \u001b[32m2\u001b[39m), (\u001b[32m's'\u001b[39m, \u001b[32m1\u001b[39m))"
      ]
     },
     "execution_count": 268,
     "metadata": {},
     "output_type": "execute_result"
    }
   ],
   "source": [
    "(test.toLowerCase groupBy (x => x)).toList.map(x => (x._1, x._2.size))"
   ]
  },
  {
   "cell_type": "code",
   "execution_count": 239,
   "metadata": {},
   "outputs": [
    {
     "name": "stderr",
     "output_type": "stream",
     "text": [
      "cmd239.sc:1: type mismatch;\n",
      " found   : String(\"t\")\n",
      " required: Char => Boolean\n",
      "val res239 = test count \"t\"\n",
      "                        ^Compilation Failed"
     ]
    },
    {
     "ename": "",
     "evalue": "",
     "output_type": "error",
     "traceback": [
      "Compilation Failed"
     ]
    }
   ],
   "source": [
    "test count "
   ]
  },
  {
   "cell_type": "markdown",
   "metadata": {},
   "source": [
    "# Lecture 1.3"
   ]
  },
  {
   "cell_type": "code",
   "execution_count": 271,
   "metadata": {},
   "outputs": [
    {
     "data": {
      "text/plain": [
       "\u001b[32mimport \u001b[39m\u001b[36mjava.util.Random\n",
       "\u001b[39m\n",
       "\u001b[36mrand\u001b[39m: \u001b[32mRandom\u001b[39m = java.util.Random@4379cfb2\n",
       "\u001b[36mres270_2\u001b[39m: \u001b[32mInt\u001b[39m = \u001b[32m1058559085\u001b[39m"
      ]
     },
     "execution_count": 271,
     "metadata": {},
     "output_type": "execute_result"
    }
   ],
   "source": [
    "import java.util.Random\n",
    "val rand = new Random\n",
    "rand.nextInt()"
   ]
  },
  {
   "cell_type": "code",
   "execution_count": 282,
   "metadata": {},
   "outputs": [
    {
     "data": {
      "text/plain": [
       "defined \u001b[32mtrait\u001b[39m \u001b[36mGenerator\u001b[39m\n",
       "\u001b[36mintegers\u001b[39m: \u001b[32mAnyRef\u001b[39m with \u001b[32mGenerator\u001b[39m[\u001b[32mInt\u001b[39m]{val rand: java.util.Random} = ammonite.$sess.cmd281$Helper$$anon$1@26bb89f9\n",
       "\u001b[36mbooleans\u001b[39m: \u001b[32mAnyRef\u001b[39m with \u001b[32mGenerator\u001b[39m[\u001b[32mBoolean\u001b[39m] = ammonite.$sess.cmd281$Helper$$anon$2@1b503626\n",
       "\u001b[36mpairs\u001b[39m: \u001b[32mAnyRef\u001b[39m with \u001b[32mGenerator\u001b[39m[(\u001b[32mInt\u001b[39m, \u001b[32mInt\u001b[39m)] = ammonite.$sess.cmd281$Helper$$anon$3@72edad2b"
      ]
     },
     "execution_count": 282,
     "metadata": {},
     "output_type": "execute_result"
    }
   ],
   "source": [
    "// This works but we have to write a bunch of boilerplate (new Generator) each time. Can we do better?\n",
    "trait Generator[+T] {\n",
    "    def generate: T\n",
    "}\n",
    "\n",
    "val integers = new Generator[Int] {\n",
    "    val rand = new Random\n",
    "    def generate = rand.nextInt()\n",
    "}\n",
    "\n",
    "val booleans = new Generator[Boolean] {\n",
    "    def generate = integers.generate > 0\n",
    "}\n",
    "\n",
    "val pairs = new Generator[(Int, Int)] {\n",
    "    def generate = (integers.generate, integers.generate)\n",
    "}"
   ]
  },
  {
   "cell_type": "code",
   "execution_count": 2,
   "metadata": {},
   "outputs": [
    {
     "data": {
      "text/plain": [
       "defined \u001b[32mtrait\u001b[39m \u001b[36mGenerator\u001b[39m"
      ]
     },
     "execution_count": 2,
     "metadata": {},
     "output_type": "execute_result"
    }
   ],
   "source": [
    "// More convenient version of generator\n",
    "trait Generator[+T] {\n",
    "    self =>\n",
    "    def generate: T\n",
    "    \n",
    "    def map[S](f: T => S): Generator[S] = new Generator[S] {\n",
    "        def generate = f(self.generate)\n",
    "    }\n",
    "    \n",
    "    def flatMap[S](f: T => Generator[S]): Generator[S] = new Generator[S] {\n",
    "        def generate = f(self.generate).generate\n",
    "    }\n",
    "}"
   ]
  },
  {
   "cell_type": "code",
   "execution_count": null,
   "metadata": {},
   "outputs": [],
   "source": []
  },
  {
   "cell_type": "code",
   "execution_count": null,
   "metadata": {},
   "outputs": [],
   "source": []
  }
 ],
 "metadata": {
  "kernelspec": {
   "display_name": "Scala",
   "language": "scala",
   "name": "scala"
  },
  "language_info": {
   "codemirror_mode": "text/x-scala",
   "file_extension": ".scala",
   "mimetype": "text/x-scala",
   "name": "scala",
   "nbconvert_exporter": "script",
   "version": "2.12.8"
  }
 },
 "nbformat": 4,
 "nbformat_minor": 2
}
