{
 "cells": [
  {
   "cell_type": "markdown",
   "metadata": {},
   "source": [
    "# Lecture 3.1 - Functions and State"
   ]
  },
  {
   "cell_type": "code",
   "execution_count": 8,
   "metadata": {},
   "outputs": [
    {
     "data": {
      "text/plain": [
       "defined \u001b[32mclass\u001b[39m \u001b[36mBankAccount\u001b[39m"
      ]
     },
     "execution_count": 8,
     "metadata": {},
     "output_type": "execute_result"
    }
   ],
   "source": [
    "class BankAccount {\n",
    "    private var balance = 0\n",
    "    def deposit(amount: Int): Unit = {\n",
    "        if (amount > 0) balance = balance + amount\n",
    "    }\n",
    "    def withdraw(amount: Int): Unit = {\n",
    "        if (balance >= amount && amount >= 0) {\n",
    "            balance = balance - amount\n",
    "            balance\n",
    "        }\n",
    "        else throw new Error(\"INSUFFICIENT FUNDS BRO\")\n",
    "    }\n",
    "}"
   ]
  },
  {
   "cell_type": "code",
   "execution_count": 13,
   "metadata": {},
   "outputs": [
    {
     "data": {
      "text/plain": [
       "\u001b[36macct\u001b[39m: \u001b[32mBankAccount\u001b[39m = ammonite.$sess.cmd7$Helper$BankAccount@6473f2aa"
      ]
     },
     "execution_count": 13,
     "metadata": {},
     "output_type": "execute_result"
    }
   ],
   "source": [
    "val acct = new BankAccount"
   ]
  },
  {
   "cell_type": "code",
   "execution_count": 14,
   "metadata": {},
   "outputs": [
    {
     "ename": "",
     "evalue": "",
     "output_type": "error",
     "traceback": [
      "\u001b[31mjava.lang.Error: INSUFFICIENT FUNDS BRO\u001b[39m\n  ammonite.$sess.cmd7$Helper$BankAccount.withdraw(\u001b[32mcmd7.sc\u001b[39m:\u001b[32m11\u001b[39m)\n  ammonite.$sess.cmd13$Helper.<init>(\u001b[32mcmd13.sc\u001b[39m:\u001b[32m4\u001b[39m)\n  ammonite.$sess.cmd13$.<init>(\u001b[32mcmd13.sc\u001b[39m:\u001b[32m7\u001b[39m)\n  ammonite.$sess.cmd13$.<clinit>(\u001b[32mcmd13.sc\u001b[39m:\u001b[32m-1\u001b[39m)"
     ]
    }
   ],
   "source": [
    "acct.deposit(50)\n",
    "acct.withdraw(20)\n",
    "acct.withdraw(20)\n",
    "acct.withdraw(15)"
   ]
  },
  {
   "cell_type": "code",
   "execution_count": null,
   "metadata": {},
   "outputs": [],
   "source": []
  },
  {
   "cell_type": "markdown",
   "metadata": {},
   "source": [
    "# Lecture 3.2 - Identity and Change"
   ]
  },
  {
   "cell_type": "markdown",
   "metadata": {},
   "source": [
    "Assignment poses the problem of deciding whether two objects are the same.\n",
    "When one excludes assigments and one writes\n",
    "```scala\n",
    "val x = E\n",
    "val y = E\n",
    "```\n",
    "where `E` is an arbitrary expression, then it is reasonable to assume that `x` and `y` are the same.  \n",
    "This property is usually called **referential transparency**.\n",
    "\n",
    "The precise meaning of \"being the same\" is defined by the property of **operational equivalence**.\n",
    "\n",
    "Suppose we have two definitions `x` and `y`. Then they are operationally equivalent if no possible test can distinguish between them."
   ]
  },
  {
   "cell_type": "markdown",
   "metadata": {},
   "source": [
    "# Lecture 3.3 - Loops"
   ]
  },
  {
   "cell_type": "code",
   "execution_count": null,
   "metadata": {},
   "outputs": [],
   "source": []
  },
  {
   "cell_type": "markdown",
   "metadata": {},
   "source": [
    "# Lecture 3.4 - Discrete Event Simulation"
   ]
  },
  {
   "cell_type": "markdown",
   "metadata": {},
   "source": [
    "A wire is a connected component until it hits a gate.\n",
    "```scala\n",
    "val a, b, c = new Wire\n",
    "```\n",
    "\n",
    "Gates (each has a side effect that creates a gate)\n",
    "```scala\n",
    "def inverter(input: Wire, output: Wire): Unit\n",
    "def andGate(a1: Wire, a2: Wire, output: Wire): Unit\n",
    "def orGate(b2: Wire, b2: Wire, output: Wire): Unit\n",
    "```"
   ]
  },
  {
   "cell_type": "markdown",
   "metadata": {},
   "source": [
    "### Half-adder\n",
    "<img src=\"half_adder.png\"/>\n",
    "```scala\n",
    "def halfAdder(a: Wire, b: Wire, s: Wire, c: Wire): Unit = {\n",
    "    val d = new Wire\n",
    "    val e = new Wire\n",
    "    orGate(a, b, d)\n",
    "    andGate(a, b, c)\n",
    "    inverter(c, e)\n",
    "    andGate(d, e, s)\n",
    "}\n",
    "```"
   ]
  },
  {
   "cell_type": "markdown",
   "metadata": {},
   "source": [
    "### Full-adder\n",
    "<img src=\"full_adder.png\"/>\n",
    "```scala\n",
    "def fullAdder(a: Wire, b: Wire, cin: Wire, sum: Wire, cout: Wire): Unit = {\n",
    "    val s = new Wire\n",
    "    val c1 = new Wire\n",
    "    val c2 = new Wire\n",
    "    halfAdder(b, cin, s, c1)\n",
    "    halfAdder(a, s, sum, c2)\n",
    "    orGate(c1, c2, cout)\n",
    "```"
   ]
  },
  {
   "cell_type": "markdown",
   "metadata": {},
   "source": [
    "# Lecture 3.5 - Discrete Event Simulation: API and Usage"
   ]
  },
  {
   "cell_type": "markdown",
   "metadata": {},
   "source": [
    "### Simulation signature\n",
    "```scala\n",
    "trait Simulation {\n",
    "    def currentTime: Int = ???\n",
    "    def afterDelay(delay: Int)(block => Unit): Unit = ???\n",
    "    def run(): Unit = ???\n",
    "```"
   ]
  },
  {
   "cell_type": "markdown",
   "metadata": {},
   "source": [
    "### Class diagram\n",
    "1. Simulation  \n",
    "2. Gates (Wire, AND, OR, INV)\n",
    "3. Circuits (HA, Adder)\n",
    "4. My Simulation"
   ]
  },
  {
   "cell_type": "markdown",
   "metadata": {},
   "source": [
    "Wire class API\n",
    "```scala\n",
    "getSignal: Boolean\n",
    "setSignal(sig: Boolean): Unit\n",
    "addAction(a: Action): Unit\n",
    "```\n",
    "\n",
    "Implementation\n",
    "```scala\n",
    "class Wire {\n",
    "    private var sigVal = false\n",
    "    private var actions: List[Action] = List()\n",
    "    def getSignal: Boolean = sigVal\n",
    "    def setSignal(s: Boolean): Unit = {\n",
    "        if (s != sigVal) {\n",
    "            sigVal = s\n",
    "            actions foreach (_())\n",
    "        }\n",
    "    }\n",
    "    def addAction(a: Action): Unit = {\n",
    "        actions = a :: actions\n",
    "        a()\n",
    "    }\n",
    "}\n",
    "```\n",
    "            \n"
   ]
  },
  {
   "cell_type": "markdown",
   "metadata": {},
   "source": [
    "Inverter implementation\n",
    "\n",
    "```scala\n",
    "def inverter(input: Wire, output: Wire): Unit = {\n",
    "    def inverterAction(): Unit = {\n",
    "        val inputSig = input.getSignal\n",
    "        afterDelay(InverterDelay) { output setSignal !inputSig }\n",
    "    }\n",
    "    input addAction inverterAction\n",
    "}\n",
    "```"
   ]
  },
  {
   "cell_type": "markdown",
   "metadata": {},
   "source": [
    "AND and OR implementations"
   ]
  },
  {
   "cell_type": "markdown",
   "metadata": {},
   "source": [
    "# Lecture 3.6"
   ]
  },
  {
   "cell_type": "markdown",
   "metadata": {},
   "source": [
    "### Simulation"
   ]
  },
  {
   "cell_type": "markdown",
   "metadata": {},
   "source": [
    "```scala\n",
    "trait Simulation {\n",
    "    type Action = () => Unit\n",
    "    case class Event(time: Int, action: Action)\n",
    "    private type Agenda = List[Event]\n",
    "    private var agenda: Agenda = List()\n",
    "} \n",
    "```"
   ]
  },
  {
   "cell_type": "markdown",
   "metadata": {},
   "source": [
    "```scala\n",
    "private var curtime = 0\n",
    "def curtime: Int = curtime\n",
    "```"
   ]
  },
  {
   "cell_type": "markdown",
   "metadata": {},
   "source": [
    "```scala\n",
    "def afterDelay(delay: Int)(block: => Unit): Unit = {\n",
    "    val item = Event(curtime + delay, () => block)\n",
    "    agenda = insert(agenda, item)\n",
    "}\n",
    "```"
   ]
  },
  {
   "cell_type": "markdown",
   "metadata": {},
   "source": [
    "```scala\n",
    "private def insert(ag: List[Event], item: Event): List[Event] = ag match {\n",
    "    case first :: rest if first.time <= item.time =>\n",
    "        first :: insert(rest, item)\n",
    "    case _ => \n",
    "        item :: ag\n",
    "}\n",
    "```"
   ]
  },
  {
   "cell_type": "markdown",
   "metadata": {},
   "source": [
    "### Event handling loop\n",
    "```scala\n",
    "private def loop(): Unit = agenda match {\n",
    "    case first :: rest =>\n",
    "        agenda = rest\n",
    "        curtime = first.time\n",
    "        first.action()\n",
    "        loop()\n",
    "    case Nil =>\n",
    "}\n",
    "```"
   ]
  },
  {
   "cell_type": "code",
   "execution_count": null,
   "metadata": {},
   "outputs": [],
   "source": []
  },
  {
   "cell_type": "markdown",
   "metadata": {},
   "source": [
    "### Probes\n",
    "```scala\n",
    "def probe(name: String, wire: Wire): Unit = {\n",
    "    def probeAction(): Unit = {\n",
    "        println(s\"$name $currentTime $value = ${wire.getSignal}\")\n",
    "    }\n",
    "    wire addAction probeAction\n",
    "}\n",
    "```"
   ]
  },
  {
   "cell_type": "markdown",
   "metadata": {},
   "source": [
    "### Define Technology Related Parameters\n",
    "\n",
    "```scala\n",
    "trait Parameter {\n",
    "    def InverterDelay = 2\n",
    "    def AndGateDelay = 3\n",
    "    def OrGateDelay\n",
    "}\n",
    "\n",
    "obj sim extends Circuits with Parameters\n",
    "```"
   ]
  },
  {
   "cell_type": "markdown",
   "metadata": {},
   "source": [
    "## Concrete Simulation"
   ]
  },
  {
   "cell_type": "code",
   "execution_count": null,
   "metadata": {},
   "outputs": [],
   "source": []
  }
 ],
 "metadata": {
  "kernelspec": {
   "display_name": "Scala",
   "language": "scala",
   "name": "scala"
  },
  "language_info": {
   "codemirror_mode": "text/x-scala",
   "file_extension": ".scala",
   "mimetype": "text/x-scala",
   "name": "scala",
   "nbconvert_exporter": "script",
   "version": "2.12.8"
  }
 },
 "nbformat": 4,
 "nbformat_minor": 2
}
