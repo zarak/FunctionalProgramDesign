{
 "cells": [
  {
   "cell_type": "code",
   "execution_count": 1,
   "metadata": {},
   "outputs": [
    {
     "data": {
      "text/plain": [
       "\u001b[36mx\u001b[39m: \u001b[32mVector\u001b[39m[\u001b[32mVector\u001b[39m[\u001b[32mChar\u001b[39m]] = \u001b[33mVector\u001b[39m(\n",
       "  \u001b[33mVector\u001b[39m(\u001b[32m'S'\u001b[39m, \u001b[32m'L'\u001b[39m),\n",
       "  \u001b[33mVector\u001b[39m(\u001b[32m'o'\u001b[39m, \u001b[32m'o'\u001b[39m),\n",
       "  \u001b[33mVector\u001b[39m(\u001b[32m'o'\u001b[39m, \u001b[32m'o'\u001b[39m)\n",
       ")"
      ]
     },
     "execution_count": 1,
     "metadata": {},
     "output_type": "execute_result"
    }
   ],
   "source": [
    "val x = Vector(Vector('S', 'L'), Vector('o', 'o'), Vector('o', 'o'))"
   ]
  },
  {
   "cell_type": "code",
   "execution_count": 3,
   "metadata": {},
   "outputs": [
    {
     "data": {
      "text/plain": [
       "\u001b[36mres2\u001b[39m: \u001b[32mChar\u001b[39m = \u001b[32m'S'\u001b[39m"
      ]
     },
     "execution_count": 3,
     "metadata": {},
     "output_type": "execute_result"
    }
   ],
   "source": [
    "x(0)(0)"
   ]
  },
  {
   "cell_type": "code",
   "execution_count": 37,
   "metadata": {},
   "outputs": [
    {
     "name": "stderr",
     "output_type": "stream",
     "text": [
      "cmd37.sc:30: type mismatch;\n",
      " found   : Helper.this.Pos\n",
      " required: ammonite.$sess.cmd31.wrapper.cmd4.Pos\n",
      "  def startBlock: Block = Block(startPos, startPos)\n",
      "                                ^cmd37.sc:30: type mismatch;\n",
      " found   : Helper.this.Pos\n",
      " required: ammonite.$sess.cmd31.wrapper.cmd4.Pos\n",
      "  def startBlock: Block = Block(startPos, startPos)\n",
      "                                          ^Compilation Failed"
     ]
    },
    {
     "ename": "",
     "evalue": "",
     "output_type": "error",
     "traceback": [
      "Compilation Failed"
     ]
    }
   ],
   "source": [
    "case class Pos(row: Int, col: Int) {\n",
    "/** The position obtained by changing the `row` coordinate by `d` */\n",
    "def deltaRow(d: Int): Pos = copy(row = row + d)\n",
    "\n",
    "/** The position obtained by changing the `col` coordinate by `d` */\n",
    "def deltaCol(d: Int): Pos = copy(col = col + d)\n",
    "\n",
    "  val startPos: Pos\n",
    "\n",
    "  /**\n",
    "   * The target position where the block has to go.\n",
    "   * This value is left abstract.\n",
    "   */\n",
    "  val goal: Pos\n",
    "\n",
    "  /**\n",
    "   * In Bloxorz, we can move left, right, Up or down.\n",
    "   * These moves are encoded as case objects.\n",
    "   */\n",
    "  sealed abstract class Move\n",
    "  case object Left  extends Move\n",
    "  case object Right extends Move\n",
    "  case object Up    extends Move\n",
    "  case object Down  extends Move\n",
    "\n",
    "  /**\n",
    "   * This function returns the block at the start position of\n",
    "   * the game.\n",
    "   */\n",
    "  def startBlock: Block = Block(startPos, startPos)\n",
    "\n",
    "}"
   ]
  },
  {
   "cell_type": "code",
   "execution_count": 5,
   "metadata": {},
   "outputs": [
    {
     "name": "stderr",
     "output_type": "stream",
     "text": [
      "cmd5.sc:1: value _1 is not a member of object cmd5.this.cmd4.Pos\n",
      "val res5 = x(Pos._1)(Pos._2)\n",
      "                 ^cmd5.sc:1: value _2 is not a member of object cmd5.this.cmd4.Pos\n",
      "val res5 = x(Pos._1)(Pos._2)\n",
      "                         ^Compilation Failed"
     ]
    },
    {
     "ename": "",
     "evalue": "",
     "output_type": "error",
     "traceback": [
      "Compilation Failed"
     ]
    }
   ],
   "source": []
  },
  {
   "cell_type": "code",
   "execution_count": 6,
   "metadata": {},
   "outputs": [
    {
     "data": {
      "text/plain": [
       "\u001b[36mp\u001b[39m: \u001b[32mPos\u001b[39m = \u001b[33mPos\u001b[39m(\u001b[32m1\u001b[39m, \u001b[32m2\u001b[39m)"
      ]
     },
     "execution_count": 6,
     "metadata": {},
     "output_type": "execute_result"
    }
   ],
   "source": [
    "val p = new Pos(1, 2)"
   ]
  },
  {
   "cell_type": "code",
   "execution_count": null,
   "metadata": {},
   "outputs": [],
   "source": []
  },
  {
   "cell_type": "code",
   "execution_count": 11,
   "metadata": {},
   "outputs": [
    {
     "data": {
      "text/plain": [
       "\u001b[36mres10\u001b[39m: \u001b[32mInt\u001b[39m = \u001b[32m2\u001b[39m"
      ]
     },
     "execution_count": 11,
     "metadata": {},
     "output_type": "execute_result"
    }
   ],
   "source": [
    "x(0).length"
   ]
  },
  {
   "cell_type": "code",
   "execution_count": 13,
   "metadata": {},
   "outputs": [
    {
     "data": {
      "text/plain": [
       "\u001b[36mres12\u001b[39m: \u001b[32mChar\u001b[39m = \u001b[32m'L'\u001b[39m"
      ]
     },
     "execution_count": 13,
     "metadata": {},
     "output_type": "execute_result"
    }
   ],
   "source": [
    "x(0)(1)"
   ]
  },
  {
   "cell_type": "code",
   "execution_count": 16,
   "metadata": {},
   "outputs": [
    {
     "data": {
      "text/plain": [
       "\u001b[36mres15\u001b[39m: \u001b[32mBoolean\u001b[39m = true"
      ]
     },
     "execution_count": 16,
     "metadata": {},
     "output_type": "execute_result"
    }
   ],
   "source": [
    "(0 until x.length) contains 1"
   ]
  },
  {
   "cell_type": "code",
   "execution_count": 17,
   "metadata": {},
   "outputs": [
    {
     "data": {
      "text/plain": [
       "\u001b[36mres16\u001b[39m: \u001b[32mBoolean\u001b[39m = true"
      ]
     },
     "execution_count": 17,
     "metadata": {},
     "output_type": "execute_result"
    }
   ],
   "source": [
    "(0 until x(0).length) contains 1"
   ]
  },
  {
   "cell_type": "code",
   "execution_count": 18,
   "metadata": {},
   "outputs": [
    {
     "data": {
      "text/plain": [
       "\u001b[36mres17\u001b[39m: \u001b[32mVector\u001b[39m[\u001b[32mVector\u001b[39m[\u001b[32mChar\u001b[39m]] = \u001b[33mVector\u001b[39m(\n",
       "  \u001b[33mVector\u001b[39m(\u001b[32m'S'\u001b[39m, \u001b[32m'L'\u001b[39m),\n",
       "  \u001b[33mVector\u001b[39m(\u001b[32m'o'\u001b[39m, \u001b[32m'o'\u001b[39m),\n",
       "  \u001b[33mVector\u001b[39m(\u001b[32m'o'\u001b[39m, \u001b[32m'o'\u001b[39m)\n",
       ")"
      ]
     },
     "execution_count": 18,
     "metadata": {},
     "output_type": "execute_result"
    }
   ],
   "source": [
    "x"
   ]
  },
  {
   "cell_type": "code",
   "execution_count": 20,
   "metadata": {},
   "outputs": [
    {
     "data": {
      "text/plain": [
       "\u001b[36mres19\u001b[39m: \u001b[32mInt\u001b[39m = \u001b[32m0\u001b[39m"
      ]
     },
     "execution_count": 20,
     "metadata": {},
     "output_type": "execute_result"
    }
   ],
   "source": [
    "x(0) indexOf('S')"
   ]
  },
  {
   "cell_type": "code",
   "execution_count": 21,
   "metadata": {},
   "outputs": [
    {
     "data": {
      "text/plain": [
       "\u001b[36mres20\u001b[39m: \u001b[32mInt\u001b[39m = \u001b[32m0\u001b[39m"
      ]
     },
     "execution_count": 21,
     "metadata": {},
     "output_type": "execute_result"
    }
   ],
   "source": [
    "x indexWhere(v => v contains 'S')"
   ]
  },
  {
   "cell_type": "code",
   "execution_count": 26,
   "metadata": {},
   "outputs": [
    {
     "data": {
      "text/plain": [
       "\u001b[36mres\u001b[39m: \u001b[32mcollection\u001b[39m.\u001b[32mimmutable\u001b[39m.\u001b[32mIndexedSeq\u001b[39m[(\u001b[32mInt\u001b[39m, \u001b[32mInt\u001b[39m)] = \u001b[33mVector\u001b[39m((\u001b[32m0\u001b[39m, \u001b[32m0\u001b[39m))"
      ]
     },
     "execution_count": 26,
     "metadata": {},
     "output_type": "execute_result"
    }
   ],
   "source": [
    "val res = {for {\n",
    "    row <- 0 until x.length\n",
    "    if (x(row) contains 'S')\n",
    "} yield (row, x(row) indexOf('S'))}"
   ]
  },
  {
   "cell_type": "code",
   "execution_count": 28,
   "metadata": {},
   "outputs": [
    {
     "name": "stderr",
     "output_type": "stream",
     "text": [
      "cmd28.sc:1: not enough arguments for method apply: (row: Int, col: Int)cmd28.this.cmd4.Pos in object Pos.\n",
      "Unspecified value parameter col.\n",
      "val res28 = Pos(res(0))\n",
      "               ^Compilation Failed"
     ]
    },
    {
     "ename": "",
     "evalue": "",
     "output_type": "error",
     "traceback": [
      "Compilation Failed"
     ]
    }
   ],
   "source": [
    "Pos(res(0))"
   ]
  },
  {
   "cell_type": "code",
   "execution_count": null,
   "metadata": {},
   "outputs": [],
   "source": []
  },
  {
   "cell_type": "code",
   "execution_count": 30,
   "metadata": {},
   "outputs": [
    {
     "data": {
      "text/plain": [
       "\u001b[36mx\u001b[39m: \u001b[32mPos\u001b[39m = \u001b[33mPos\u001b[39m(\u001b[32m1\u001b[39m, \u001b[32m2\u001b[39m)\n",
       "\u001b[36my\u001b[39m: \u001b[32mPos\u001b[39m = \u001b[33mPos\u001b[39m(\u001b[32m1\u001b[39m, \u001b[32m3\u001b[39m)"
      ]
     },
     "execution_count": 30,
     "metadata": {},
     "output_type": "execute_result"
    }
   ],
   "source": [
    "val x = Pos(1, 2)\n",
    "val y = Pos(1, 3)"
   ]
  },
  {
   "cell_type": "code",
   "execution_count": 32,
   "metadata": {},
   "outputs": [
    {
     "data": {
      "text/plain": [
       "defined \u001b[32mclass\u001b[39m \u001b[36mBlock\u001b[39m"
      ]
     },
     "execution_count": 32,
     "metadata": {},
     "output_type": "execute_result"
    }
   ],
   "source": [
    "  case class Block(b1: Pos, b2: Pos) {\n",
    "\n",
    "    // checks the requirement mentioned above\n",
    "    require(b1.row <= b2.row && b1.col <= b2.col, \"Invalid block position: b1=\" + b1 + \", b2=\" + b2)\n",
    "\n",
    "    /**\n",
    "     * Returns a block where the `row` coordinates of `b1` and `b2` are\n",
    "     * changed by `d1` and `d2`, respectively.\n",
    "     */\n",
    "    def deltaRow(d1: Int, d2: Int) = Block(b1.deltaRow(d1), b2.deltaRow(d2))\n",
    "\n",
    "    /**\n",
    "     * Returns a block where the `col` coordinates of `b1` and `b2` are\n",
    "     * changed by `d1` and `d2`, respectively.\n",
    "     */\n",
    "    def deltaCol(d1: Int, d2: Int) = Block(b1.deltaCol(d1), b2.deltaCol(d2))\n",
    "\n",
    "\n",
    "    def isStanding: Boolean = b1 == b2\n",
    "  }"
   ]
  },
  {
   "cell_type": "code",
   "execution_count": 33,
   "metadata": {},
   "outputs": [
    {
     "data": {
      "text/plain": [
       "\u001b[36mb\u001b[39m: \u001b[32mBlock\u001b[39m = \u001b[33mBlock\u001b[39m(\u001b[33mPos\u001b[39m(\u001b[32m1\u001b[39m, \u001b[32m2\u001b[39m), \u001b[33mPos\u001b[39m(\u001b[32m1\u001b[39m, \u001b[32m3\u001b[39m))"
      ]
     },
     "execution_count": 33,
     "metadata": {},
     "output_type": "execute_result"
    }
   ],
   "source": [
    "val b = new Block(x, y)"
   ]
  },
  {
   "cell_type": "code",
   "execution_count": 35,
   "metadata": {},
   "outputs": [
    {
     "data": {
      "text/plain": [
       "\u001b[36mb2\u001b[39m: \u001b[32mBlock\u001b[39m = \u001b[33mBlock\u001b[39m(\u001b[33mPos\u001b[39m(\u001b[32m1\u001b[39m, \u001b[32m2\u001b[39m), \u001b[33mPos\u001b[39m(\u001b[32m1\u001b[39m, \u001b[32m2\u001b[39m))"
      ]
     },
     "execution_count": 35,
     "metadata": {},
     "output_type": "execute_result"
    }
   ],
   "source": [
    "val b2 = new Block(x, x)"
   ]
  },
  {
   "cell_type": "code",
   "execution_count": 36,
   "metadata": {},
   "outputs": [
    {
     "data": {
      "text/plain": [
       "\u001b[36mres35\u001b[39m: \u001b[32mBoolean\u001b[39m = true"
      ]
     },
     "execution_count": 36,
     "metadata": {},
     "output_type": "execute_result"
    }
   ],
   "source": [
    "b2.isStanding"
   ]
  },
  {
   "cell_type": "code",
   "execution_count": 37,
   "metadata": {},
   "outputs": [
    {
     "name": "stderr",
     "output_type": "stream",
     "text": [
      "cmd37.sc:44: not found: type Move\n",
      "    def neighbors: List[(Block, Move)] = {\n",
      "                                ^cmd37.sc:45: not found: value Up\n",
      "      List((left, Left), (right, Right), (up, Up), (down, Down))\n",
      "                                              ^cmd37.sc:45: not found: value Down\n",
      "      List((left, Left), (right, Right), (up, Up), (down, Down))\n",
      "                                                          ^cmd37.sc:52: not found: type Move\n",
      "    def legalNeighbors: List[(Block, Move)] = this.neighbors.filter(x => x._1 isLegal)\n",
      "                                     ^cmd37.sc:62: not found: value terrain\n",
      "    def isLegal: Boolean = List(b1, b2) forall(terrain)\n",
      "                                               ^Compilation Failed"
     ]
    },
    {
     "ename": "",
     "evalue": "",
     "output_type": "error",
     "traceback": [
      "Compilation Failed"
     ]
    }
   ],
   "source": [
    "  case class Block(b1: Pos, b2: Pos) {\n",
    "\n",
    "    // checks the requirement mentioned above\n",
    "    require(b1.row <= b2.row && b1.col <= b2.col, \"Invalid block position: b1=\" + b1 + \", b2=\" + b2)\n",
    "\n",
    "    /**\n",
    "     * Returns a block where the `row` coordinates of `b1` and `b2` are\n",
    "     * changed by `d1` and `d2`, respectively.\n",
    "     */\n",
    "    def deltaRow(d1: Int, d2: Int) = Block(b1.deltaRow(d1), b2.deltaRow(d2))\n",
    "\n",
    "    /**\n",
    "     * Returns a block where the `col` coordinates of `b1` and `b2` are\n",
    "     * changed by `d1` and `d2`, respectively.\n",
    "     */\n",
    "    def deltaCol(d1: Int, d2: Int) = Block(b1.deltaCol(d1), b2.deltaCol(d2))\n",
    "\n",
    "\n",
    "    /** The block obtained by moving left */\n",
    "    def left = if (isStanding)             deltaCol(-2, -1)\n",
    "               else if (b1.row == b2.row)  deltaCol(-1, -2)\n",
    "               else                        deltaCol(-1, -1)\n",
    "\n",
    "    /** The block obtained by moving right */\n",
    "    def right = if (isStanding)            deltaCol(1, 2)\n",
    "                else if (b1.row == b2.row) deltaCol(2, 1)\n",
    "                else                       deltaCol(1, 1)\n",
    "\n",
    "    /** The block obtained by moving up */\n",
    "    def up = if (isStanding)               deltaRow(-2, -1)\n",
    "             else if (b1.row == b2.row)    deltaRow(-1, -1)\n",
    "             else                          deltaRow(-1, -2)\n",
    "\n",
    "    /** The block obtained by moving down */\n",
    "    def down = if (isStanding)             deltaRow(1, 2)\n",
    "               else if (b1.row == b2.row)  deltaRow(1, 1)\n",
    "               else                        deltaRow(2, 1)\n",
    "\n",
    "\n",
    "    /**\n",
    "     * Returns the list of blocks that can be obtained by moving\n",
    "     * the current block, together with the corresponding move.\n",
    "     */\n",
    "    def neighbors: List[(Block, Move)] = {\n",
    "      List((left, Left), (right, Right), (up, Up), (down, Down))\n",
    "    }\n",
    "\n",
    "    /**\n",
    "     * Returns the list of positions reachable from the current block\n",
    "     * which are inside the terrain.\n",
    "     */\n",
    "    def legalNeighbors: List[(Block, Move)] = this.neighbors.filter(x => x._1 isLegal)\n",
    "\n",
    "    /**\n",
    "     * Returns `true` if the block is standing.\n",
    "     */\n",
    "    def isStanding: Boolean = b1 == b2\n",
    "\n",
    "    /**\n",
    "     * Returns `true` if the block is entirely inside the terrain.\n",
    "     */\n",
    "    def isLegal: Boolean = List(b1, b2) forall(terrain)\n",
    "  }"
   ]
  },
  {
   "cell_type": "code",
   "execution_count": null,
   "metadata": {},
   "outputs": [],
   "source": []
  }
 ],
 "metadata": {
  "kernelspec": {
   "display_name": "Scala",
   "language": "scala",
   "name": "scala"
  },
  "language_info": {
   "codemirror_mode": "text/x-scala",
   "file_extension": ".scala",
   "mimetype": "text/x-scala",
   "name": "scala",
   "nbconvert_exporter": "script",
   "version": "2.12.8"
  }
 },
 "nbformat": 4,
 "nbformat_minor": 2
}
