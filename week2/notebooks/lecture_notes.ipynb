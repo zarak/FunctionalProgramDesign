{
 "cells": [
  {
   "cell_type": "markdown",
   "metadata": {},
   "source": [
    "# Lecture 2.1"
   ]
  },
  {
   "cell_type": "markdown",
   "metadata": {},
   "source": [
    "## Structural induction on trees"
   ]
  },
  {
   "cell_type": "code",
   "execution_count": null,
   "metadata": {},
   "outputs": [],
   "source": []
  },
  {
   "cell_type": "markdown",
   "metadata": {},
   "source": [
    "# Lecture 2.2 - Streams"
   ]
  },
  {
   "cell_type": "markdown",
   "metadata": {},
   "source": [
    "Streams are defined from a constant `Stream.empty` and a constructor `Stream.cons`."
   ]
  },
  {
   "cell_type": "code",
   "execution_count": 1,
   "metadata": {},
   "outputs": [
    {
     "data": {
      "text/plain": [
       "\u001b[36mxs\u001b[39m: \u001b[32mStream\u001b[39m.\u001b[32mCons\u001b[39m[\u001b[32mInt\u001b[39m] = \u001b[33mStream\u001b[39m(\u001b[32m1\u001b[39m, \u001b[32m2\u001b[39m)"
      ]
     },
     "execution_count": 1,
     "metadata": {},
     "output_type": "execute_result"
    }
   ],
   "source": [
    "val xs = Stream.cons(1, Stream.cons(2, Stream.empty))"
   ]
  },
  {
   "cell_type": "code",
   "execution_count": 2,
   "metadata": {},
   "outputs": [
    {
     "data": {
      "text/plain": [
       "\u001b[36mres1\u001b[39m: \u001b[32mStream\u001b[39m[\u001b[32mInt\u001b[39m] = \u001b[33mStream\u001b[39m(\u001b[32m1\u001b[39m, \u001b[32m2\u001b[39m, \u001b[32m3\u001b[39m, \u001b[32m4\u001b[39m, \u001b[32m5\u001b[39m, \u001b[32m6\u001b[39m, \u001b[32m7\u001b[39m, \u001b[32m8\u001b[39m, \u001b[32m9\u001b[39m, \u001b[32m10\u001b[39m)"
      ]
     },
     "execution_count": 2,
     "metadata": {},
     "output_type": "execute_result"
    }
   ],
   "source": [
    "(1 to 10).toStream"
   ]
  },
  {
   "cell_type": "code",
   "execution_count": 6,
   "metadata": {},
   "outputs": [
    {
     "data": {
      "text/plain": [
       "defined \u001b[32mfunction\u001b[39m \u001b[36mstreamRange\u001b[39m\n",
       "defined \u001b[32mfunction\u001b[39m \u001b[36mlistRange\u001b[39m"
      ]
     },
     "execution_count": 6,
     "metadata": {},
     "output_type": "execute_result"
    }
   ],
   "source": [
    "// Stream range\n",
    "def streamRange(lo: Int, hi: Int): Stream[Int] = {\n",
    "    if (lo >= hi) Stream.empty\n",
    "    else Stream.cons(lo, streamRange(lo + 1, hi))\n",
    "}\n",
    "\n",
    "// Compare to list version - structure is isomorphic but behaviour is quite different\n",
    "def listRange(lo: Int, hi: Int): List[Int] = {\n",
    "    if (lo >= hi) Nil\n",
    "    else lo :: listRange(lo + 1, hi)\n",
    "}\n"
   ]
  },
  {
   "cell_type": "markdown",
   "metadata": {},
   "source": [
    "The `#::` operator produces a stream."
   ]
  },
  {
   "cell_type": "markdown",
   "metadata": {},
   "source": [
    "Example of stream implementation. Note that the only difference with the List implementation is the call by name\n",
    "argument for `tl` in the `cons` method definition.\n",
    "\n",
    "`tl: => Stream[T]`\n",
    "\n",
    "```scala\n",
    "object Stream {\n",
    "    def cons[T](hd: T, tl: => Stream[T]) = new Stream[T] {\n",
    "        def isEmpty = false\n",
    "        def head = hd\n",
    "        def tail = tl\n",
    "    }\n",
    "    \n",
    "    val empty = new Stream[Nothing] {\n",
    "        def isEmpty = true\n",
    "        def head = throw new NoSuchElementException(\"empty.head\")\n",
    "        def tail = throw new NoSuchElementException(\"empty.tail\")\n",
    "    }\n",
    "}\n",
    "```"
   ]
  },
  {
   "cell_type": "markdown",
   "metadata": {},
   "source": [
    "# Lecture 2.3 - Lazy Evaluation"
   ]
  },
  {
   "cell_type": "code",
   "execution_count": 8,
   "metadata": {},
   "outputs": [
    {
     "name": "stdout",
     "output_type": "stream",
     "text": [
      "xzyz"
     ]
    },
    {
     "data": {
      "text/plain": [
       "defined \u001b[32mfunction\u001b[39m \u001b[36mexpr\u001b[39m\n",
       "\u001b[36mres7_1\u001b[39m: \u001b[32mInt\u001b[39m = \u001b[32m12\u001b[39m"
      ]
     },
     "execution_count": 8,
     "metadata": {},
     "output_type": "execute_result"
    }
   ],
   "source": [
    "def expr = {\n",
    "    val x = {print(\"x\"); 1}\n",
    "    lazy val y = {print(\"y\"); 2}\n",
    "    def z = {print(\"z\"); 3}\n",
    "    \n",
    "    z + y + x + z + y + x\n",
    "}\n",
    "\n",
    "expr"
   ]
  },
  {
   "cell_type": "markdown",
   "metadata": {},
   "source": [
    "More efficient version with lazy evaluated version of `tail`.\n",
    "\n",
    "```scala\n",
    "object Stream {\n",
    "    def cons[T](hd: T, tl: => Stream[T]) = new Stream[T] {\n",
    "        def isEmpty = false\n",
    "        def head = hd\n",
    "        lazy val tail = tl\n",
    "    }\n",
    "    \n",
    "    val empty = new Stream[Nothing] {\n",
    "        def isEmpty = true\n",
    "        def head = throw new NoSuchElementException(\"empty.head\")\n",
    "        def tail = throw new NoSuchElementException(\"empty.tail\")\n",
    "    }\n",
    "}\n",
    "```"
   ]
  },
  {
   "cell_type": "markdown",
   "metadata": {},
   "source": [
    "# Lecture 2.4 - Computing with Infinite Sequences"
   ]
  },
  {
   "cell_type": "code",
   "execution_count": 9,
   "metadata": {},
   "outputs": [
    {
     "data": {
      "text/plain": [
       "defined \u001b[32mfunction\u001b[39m \u001b[36mfrom\u001b[39m"
      ]
     },
     "execution_count": 9,
     "metadata": {},
     "output_type": "execute_result"
    }
   ],
   "source": [
    "def from(n: Int): Stream[Int] =\n",
    "    n #:: from(n + 1)"
   ]
  },
  {
   "cell_type": "code",
   "execution_count": 10,
   "metadata": {},
   "outputs": [
    {
     "data": {
      "text/plain": [
       "\u001b[36mres9\u001b[39m: \u001b[32mStream\u001b[39m[\u001b[32mInt\u001b[39m] = \u001b[33mStream\u001b[39m(\u001b[32m0\u001b[39m, \u001b[32m1\u001b[39m, \u001b[32m2\u001b[39m)"
      ]
     },
     "execution_count": 10,
     "metadata": {},
     "output_type": "execute_result"
    }
   ],
   "source": [
    "from(0) take 3"
   ]
  },
  {
   "cell_type": "code",
   "execution_count": 11,
   "metadata": {},
   "outputs": [
    {
     "data": {
      "text/plain": [
       "\u001b[36mres10\u001b[39m: \u001b[32mStream\u001b[39m[\u001b[32mInt\u001b[39m] = \u001b[33mStream\u001b[39m(\u001b[32m2\u001b[39m, \u001b[32m3\u001b[39m, \u001b[32m4\u001b[39m, \u001b[32m5\u001b[39m)"
      ]
     },
     "execution_count": 11,
     "metadata": {},
     "output_type": "execute_result"
    }
   ],
   "source": [
    "from(2) take 4"
   ]
  },
  {
   "cell_type": "code",
   "execution_count": 14,
   "metadata": {},
   "outputs": [
    {
     "data": {
      "text/plain": [
       "\u001b[36mnats\u001b[39m: \u001b[32mStream\u001b[39m[\u001b[32mInt\u001b[39m] = \u001b[33mStream\u001b[39m(\n",
       "  \u001b[32m0\u001b[39m,\n",
       "  \u001b[32m1\u001b[39m,\n",
       "  \u001b[32m2\u001b[39m,\n",
       "  \u001b[32m3\u001b[39m,\n",
       "  \u001b[32m4\u001b[39m,\n",
       "  \u001b[32m5\u001b[39m,\n",
       "  \u001b[32m6\u001b[39m,\n",
       "  \u001b[32m7\u001b[39m,\n",
       "  \u001b[32m8\u001b[39m,\n",
       "  \u001b[32m9\u001b[39m,\n",
       "  \u001b[32m10\u001b[39m,\n",
       "  \u001b[32m11\u001b[39m,\n",
       "  \u001b[32m12\u001b[39m,\n",
       "  \u001b[32m13\u001b[39m,\n",
       "  \u001b[32m14\u001b[39m,\n",
       "  \u001b[32m15\u001b[39m,\n",
       "  \u001b[32m16\u001b[39m,\n",
       "  \u001b[32m17\u001b[39m,\n",
       "  \u001b[32m18\u001b[39m,\n",
       "  \u001b[32m19\u001b[39m,\n",
       "  \u001b[32m20\u001b[39m,\n",
       "  \u001b[32m21\u001b[39m,\n",
       "  \u001b[32m22\u001b[39m,\n",
       "  \u001b[32m23\u001b[39m,\n",
       "  \u001b[32m24\u001b[39m,\n",
       "  \u001b[32m25\u001b[39m,\n",
       "  \u001b[32m26\u001b[39m,\n",
       "  \u001b[32m27\u001b[39m,\n",
       "  \u001b[32m28\u001b[39m,\n",
       "  \u001b[32m29\u001b[39m,\n",
       "  \u001b[32m30\u001b[39m,\n",
       "  \u001b[32m31\u001b[39m,\n",
       "  \u001b[32m32\u001b[39m,\n",
       "  \u001b[32m33\u001b[39m,\n",
       "  \u001b[32m34\u001b[39m,\n",
       "  \u001b[32m35\u001b[39m,\n",
       "  \u001b[32m36\u001b[39m,\n",
       "  \u001b[32m37\u001b[39m,\n",
       "..."
      ]
     },
     "execution_count": 14,
     "metadata": {},
     "output_type": "execute_result"
    }
   ],
   "source": [
    "val nats = from(0)"
   ]
  },
  {
   "cell_type": "code",
   "execution_count": 16,
   "metadata": {},
   "outputs": [
    {
     "data": {
      "text/plain": [
       "\u001b[36mm4s\u001b[39m: \u001b[32mStream\u001b[39m[\u001b[32mInt\u001b[39m] = \u001b[33mStream\u001b[39m(\n",
       "  \u001b[32m0\u001b[39m,\n",
       "  \u001b[32m4\u001b[39m,\n",
       "  \u001b[32m8\u001b[39m,\n",
       "  \u001b[32m12\u001b[39m,\n",
       "  \u001b[32m16\u001b[39m,\n",
       "  \u001b[32m20\u001b[39m,\n",
       "  \u001b[32m24\u001b[39m,\n",
       "  \u001b[32m28\u001b[39m,\n",
       "  \u001b[32m32\u001b[39m,\n",
       "  \u001b[32m36\u001b[39m,\n",
       "  \u001b[32m40\u001b[39m,\n",
       "  \u001b[32m44\u001b[39m,\n",
       "  \u001b[32m48\u001b[39m,\n",
       "  \u001b[32m52\u001b[39m,\n",
       "  \u001b[32m56\u001b[39m,\n",
       "  \u001b[32m60\u001b[39m,\n",
       "  \u001b[32m64\u001b[39m,\n",
       "  \u001b[32m68\u001b[39m,\n",
       "  \u001b[32m72\u001b[39m,\n",
       "  \u001b[32m76\u001b[39m,\n",
       "  \u001b[32m80\u001b[39m,\n",
       "  \u001b[32m84\u001b[39m,\n",
       "  \u001b[32m88\u001b[39m,\n",
       "  \u001b[32m92\u001b[39m,\n",
       "  \u001b[32m96\u001b[39m,\n",
       "  \u001b[32m100\u001b[39m,\n",
       "  \u001b[32m104\u001b[39m,\n",
       "  \u001b[32m108\u001b[39m,\n",
       "  \u001b[32m112\u001b[39m,\n",
       "  \u001b[32m116\u001b[39m,\n",
       "  \u001b[32m120\u001b[39m,\n",
       "  \u001b[32m124\u001b[39m,\n",
       "  \u001b[32m128\u001b[39m,\n",
       "  \u001b[32m132\u001b[39m,\n",
       "  \u001b[32m136\u001b[39m,\n",
       "  \u001b[32m140\u001b[39m,\n",
       "  \u001b[32m144\u001b[39m,\n",
       "  \u001b[32m148\u001b[39m,\n",
       "..."
      ]
     },
     "execution_count": 16,
     "metadata": {},
     "output_type": "execute_result"
    }
   ],
   "source": [
    "val m4s = nats map (_ * 4)"
   ]
  },
  {
   "cell_type": "markdown",
   "metadata": {},
   "source": [
    "## The Sieve of Erastothenes"
   ]
  },
  {
   "cell_type": "code",
   "execution_count": 17,
   "metadata": {},
   "outputs": [
    {
     "data": {
      "text/plain": [
       "defined \u001b[32mfunction\u001b[39m \u001b[36msieve\u001b[39m"
      ]
     },
     "execution_count": 17,
     "metadata": {},
     "output_type": "execute_result"
    }
   ],
   "source": [
    "def sieve(s: Stream[Int]): Stream[Int] = {\n",
    "    s.head #:: sieve(s.tail filter(_ % s.head != 0))\n",
    "}"
   ]
  },
  {
   "cell_type": "code",
   "execution_count": 21,
   "metadata": {},
   "outputs": [
    {
     "data": {
      "text/plain": [
       "\u001b[36mprimes\u001b[39m: \u001b[32mStream\u001b[39m[\u001b[32mInt\u001b[39m] = \u001b[33mStream\u001b[39m(\n",
       "  \u001b[32m2\u001b[39m,\n",
       "  \u001b[32m3\u001b[39m,\n",
       "  \u001b[32m5\u001b[39m,\n",
       "  \u001b[32m7\u001b[39m,\n",
       "  \u001b[32m11\u001b[39m,\n",
       "  \u001b[32m13\u001b[39m,\n",
       "  \u001b[32m17\u001b[39m,\n",
       "  \u001b[32m19\u001b[39m,\n",
       "  \u001b[32m23\u001b[39m,\n",
       "  \u001b[32m29\u001b[39m,\n",
       "  \u001b[32m31\u001b[39m,\n",
       "  \u001b[32m37\u001b[39m,\n",
       "  \u001b[32m41\u001b[39m,\n",
       "  \u001b[32m43\u001b[39m,\n",
       "  \u001b[32m47\u001b[39m,\n",
       "  \u001b[32m53\u001b[39m,\n",
       "  \u001b[32m59\u001b[39m,\n",
       "  \u001b[32m61\u001b[39m,\n",
       "  \u001b[32m67\u001b[39m,\n",
       "  \u001b[32m71\u001b[39m,\n",
       "  \u001b[32m73\u001b[39m,\n",
       "  \u001b[32m79\u001b[39m,\n",
       "  \u001b[32m83\u001b[39m,\n",
       "  \u001b[32m89\u001b[39m,\n",
       "  \u001b[32m97\u001b[39m,\n",
       "  \u001b[32m101\u001b[39m,\n",
       "  \u001b[32m103\u001b[39m,\n",
       "  \u001b[32m107\u001b[39m,\n",
       "  \u001b[32m109\u001b[39m,\n",
       "  \u001b[32m113\u001b[39m,\n",
       "  \u001b[32m127\u001b[39m,\n",
       "  \u001b[32m131\u001b[39m,\n",
       "  \u001b[32m137\u001b[39m,\n",
       "  \u001b[32m139\u001b[39m,\n",
       "  \u001b[32m149\u001b[39m,\n",
       "  \u001b[32m151\u001b[39m,\n",
       "  \u001b[32m157\u001b[39m,\n",
       "  \u001b[32m163\u001b[39m,\n",
       "..."
      ]
     },
     "execution_count": 21,
     "metadata": {},
     "output_type": "execute_result"
    }
   ],
   "source": [
    "val primes = sieve(from(2))"
   ]
  },
  {
   "cell_type": "code",
   "execution_count": 22,
   "metadata": {},
   "outputs": [
    {
     "data": {
      "text/plain": [
       "defined \u001b[32mfunction\u001b[39m \u001b[36msqrtStream\u001b[39m"
      ]
     },
     "execution_count": 22,
     "metadata": {},
     "output_type": "execute_result"
    }
   ],
   "source": [
    "def sqrtStream(x: Double): Stream[Double] = {\n",
    "    def improve(guess: Double) = (guess + x / guess) / 2\n",
    "    lazy val guesses: Stream[Double] = 1 #:: (guesses map improve)\n",
    "    guesses\n",
    "}"
   ]
  },
  {
   "cell_type": "code",
   "execution_count": 27,
   "metadata": {},
   "outputs": [
    {
     "data": {
      "text/plain": [
       "\u001b[36mres26\u001b[39m: \u001b[32mStream\u001b[39m[\u001b[32mDouble\u001b[39m] = \u001b[33mStream\u001b[39m(\n",
       "  \u001b[32m1.0\u001b[39m,\n",
       "  \u001b[32m2.5\u001b[39m,\n",
       "  \u001b[32m2.05\u001b[39m,\n",
       "  \u001b[32m2.000609756097561\u001b[39m,\n",
       "  \u001b[32m2.0000000929222947\u001b[39m,\n",
       "  \u001b[32m2.000000000000002\u001b[39m,\n",
       "  \u001b[32m2.0\u001b[39m\n",
       ")"
      ]
     },
     "execution_count": 27,
     "metadata": {},
     "output_type": "execute_result"
    }
   ],
   "source": [
    "sqrtStream(4) take 7"
   ]
  },
  {
   "cell_type": "markdown",
   "metadata": {},
   "source": [
    "# Lecture 2.5 - The Water Pouring Problem"
   ]
  },
  {
   "cell_type": "code",
   "execution_count": 59,
   "metadata": {},
   "outputs": [
    {
     "data": {
      "text/plain": [
       "defined \u001b[32mclass\u001b[39m \u001b[36mPouring\u001b[39m"
      ]
     },
     "execution_count": 59,
     "metadata": {},
     "output_type": "execute_result"
    }
   ],
   "source": [
    "class Pouring(capacity: Vector[Int]) {\n",
    "    // States\n",
    "    type State = Vector[Int]\n",
    "    val initialState = capacity map (x => 0)\n",
    "    \n",
    "    // Moves\n",
    "    trait Move {\n",
    "        def change(state: State): State\n",
    "    }\n",
    "    case class Empty(glass: Int) extends Move {\n",
    "        def change(state: State): State = {\n",
    "            state updated (glass, 0)\n",
    "        }\n",
    "    }\n",
    "    case class Fill(glass: Int) extends Move {\n",
    "        def change(state: State): State = {\n",
    "            state updated (glass, capacity(glass))\n",
    "        }\n",
    "    }\n",
    "    case class Pour(from: Int, to: Int) extends Move {\n",
    "        def change(state: State): State = {\n",
    "            val amount = state(from) min (capacity(to) - state(to))\n",
    "            state updated (from, state(from) - amount) updated (to, state(to) + amount)\n",
    "        }\n",
    "    }\n",
    "    \n",
    "    val glasses = 0 until capacity.length\n",
    "    \n",
    "    val moves = \n",
    "        (for (g <- glasses) yield Empty(g)) ++\n",
    "        (for (g <- glasses) yield Fill(g)) ++\n",
    "        (for (from <- glasses; to <- glasses if from != to) yield Pour(from, to))\n",
    "    \n",
    "    // Paths\n",
    "    class Path(history: List[Move], val endState: State) {\n",
    "        // Avoid recomputing endState \n",
    "        // \n",
    "        // def endState: State = trackState(history)\n",
    "        // private def trackState(xs: List[Move]): State = xs match {\n",
    "        //     case Nil => initialState\n",
    "        //     case move :: xs1 =>  move change trackState(xs1)\n",
    "        // }\n",
    "        \n",
    "        def extend(move: Move) = new Path(move :: history, move change endState)\n",
    "        \n",
    "        override def toString = (history.reverse mkString \" \") + \"->\" + endState\n",
    "    }\n",
    "    \n",
    "    val initialPath = new Path(Nil, initialState)\n",
    "    \n",
    "    def from(paths: Set[Path], explored: Set[State]): Stream[Set[Path]] = {\n",
    "        if (paths.isEmpty) Stream.empty\n",
    "        else {\n",
    "            val more = for {\n",
    "                path <- paths\n",
    "                next <- moves map path.extend\n",
    "                if !(explored contains next.endState)\n",
    "            } yield next\n",
    "            paths #:: from(more, explored ++ (more map(_.endState)))\n",
    "        }\n",
    "    }\n",
    "    \n",
    "    val pathSets = from(Set(initialPath), Set(initialState))\n",
    "    \n",
    "    def solutions(target: Int): Stream[Path] = {\n",
    "        for {\n",
    "            paths <- pathSets\n",
    "            path <- paths\n",
    "            if ((path endState) contains target)\n",
    "        } yield path\n",
    "    }\n",
    "}"
   ]
  },
  {
   "cell_type": "code",
   "execution_count": 60,
   "metadata": {},
   "outputs": [
    {
     "data": {
      "text/plain": [
       "\u001b[36mx\u001b[39m: \u001b[32mPouring\u001b[39m = ammonite.$sess.cmd58$Helper$Pouring@48d878e3\n",
       "\u001b[36mres59_1\u001b[39m: \u001b[32mStream\u001b[39m[\u001b[32mx\u001b[39m.\u001b[32mPath\u001b[39m] = \u001b[33mStream\u001b[39m(\n",
       "  Fill(1) Pour(1,0) Empty(0) Pour(1,0) Empty(0) Pour(1,0) Fill(1) Pour(1,0)->Vector(4, 6),\n",
       "  Fill(1) Pour(1,0) Empty(0) Pour(1,0) Empty(0) Pour(1,0) Fill(1) Pour(1,0) Empty(0)->Vector(0, 6)\n",
       ")"
      ]
     },
     "execution_count": 60,
     "metadata": {},
     "output_type": "execute_result"
    }
   ],
   "source": [
    "val x = new Pouring(Vector(4, 9))\n",
    "x.solutions(6)"
   ]
  },
  {
   "cell_type": "code",
   "execution_count": null,
   "metadata": {},
   "outputs": [],
   "source": []
  },
  {
   "cell_type": "markdown",
   "metadata": {},
   "source": [
    "## `foldRight` version\n",
    "```scala\n",
    "class Path(history: List[Move]) {\n",
    "    def endState: State = (history foldRight initialState)(_ change _)\n",
    "}\n",
    "```"
   ]
  },
  {
   "cell_type": "code",
   "execution_count": 42,
   "metadata": {},
   "outputs": [
    {
     "data": {
      "text/plain": [
       "\u001b[36mx\u001b[39m: \u001b[32mPouring\u001b[39m = ammonite.$sess.cmd40$Helper$Pouring@7b3dce6e\n",
       "\u001b[36mres41_1\u001b[39m: \u001b[32mVector\u001b[39m[\u001b[32mInt\u001b[39m] = \u001b[33mVector\u001b[39m(\u001b[32m0\u001b[39m, \u001b[32m0\u001b[39m, \u001b[32m0\u001b[39m, \u001b[32m0\u001b[39m, \u001b[32m0\u001b[39m, \u001b[32m0\u001b[39m, \u001b[32m0\u001b[39m, \u001b[32m0\u001b[39m, \u001b[32m0\u001b[39m, \u001b[32m0\u001b[39m)"
      ]
     },
     "execution_count": 42,
     "metadata": {},
     "output_type": "execute_result"
    }
   ],
   "source": [
    "val x = new Pouring(((1 to 10).toVector))\n",
    "x.initialState"
   ]
  },
  {
   "cell_type": "code",
   "execution_count": 44,
   "metadata": {},
   "outputs": [
    {
     "data": {
      "text/plain": [
       "\u001b[36mproblem\u001b[39m: \u001b[32mPouring\u001b[39m = ammonite.$sess.cmd40$Helper$Pouring@59409f67\n",
       "\u001b[36mres43_1\u001b[39m: \u001b[32mcollection\u001b[39m.\u001b[32mimmutable\u001b[39m.\u001b[32mIndexedSeq\u001b[39m[\u001b[32mProduct\u001b[39m with \u001b[32mSerializable\u001b[39m with \u001b[32mproblem\u001b[39m.\u001b[32mMove\u001b[39m] = \u001b[33mVector\u001b[39m(\u001b[33mEmpty\u001b[39m(\u001b[32m0\u001b[39m), \u001b[33mEmpty\u001b[39m(\u001b[32m1\u001b[39m), \u001b[33mFill\u001b[39m(\u001b[32m0\u001b[39m), \u001b[33mFill\u001b[39m(\u001b[32m1\u001b[39m), \u001b[33mPour\u001b[39m(\u001b[32m0\u001b[39m, \u001b[32m1\u001b[39m), \u001b[33mPour\u001b[39m(\u001b[32m1\u001b[39m, \u001b[32m0\u001b[39m))"
      ]
     },
     "execution_count": 44,
     "metadata": {},
     "output_type": "execute_result"
    }
   ],
   "source": [
    "val problem = new Pouring(Vector(4, 7))\n",
    "problem.moves"
   ]
  },
  {
   "cell_type": "code",
   "execution_count": null,
   "metadata": {},
   "outputs": [],
   "source": []
  },
  {
   "cell_type": "code",
   "execution_count": null,
   "metadata": {},
   "outputs": [],
   "source": []
  }
 ],
 "metadata": {
  "kernelspec": {
   "display_name": "Scala",
   "language": "scala",
   "name": "scala"
  },
  "language_info": {
   "codemirror_mode": "text/x-scala",
   "file_extension": ".scala",
   "mimetype": "text/x-scala",
   "name": "scala",
   "nbconvert_exporter": "script",
   "version": "2.12.8"
  }
 },
 "nbformat": 4,
 "nbformat_minor": 2
}
